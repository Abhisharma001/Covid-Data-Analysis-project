{
 "cells": [
  {
   "cell_type": "code",
   "execution_count": 96,
   "id": "565b3f51",
   "metadata": {},
   "outputs": [],
   "source": [
    "import pandas as pd\n",
    "import numpy as np\n",
    "import matplotlib.pyplot as plt\n",
    "import seaborn as sns\n",
    "import plotly.express as px\n",
    "from plotly.subplots import make_subplots\n",
    "from datetime import datetime"
   ]
  },
  {
   "cell_type": "code",
   "execution_count": 97,
   "id": "7bbca054",
   "metadata": {},
   "outputs": [],
   "source": [
    "covid_df = pd.read_csv(\"C:/Users/Tnluser/Documents/PYTHON_PRACTICE/Puthon Project/project1/dataset/complete.csv\")"
   ]
  },
  {
   "cell_type": "code",
   "execution_count": 98,
   "id": "9504d9f2",
   "metadata": {},
   "outputs": [
    {
     "data": {
      "text/html": [
       "<div>\n",
       "<style scoped>\n",
       "    .dataframe tbody tr th:only-of-type {\n",
       "        vertical-align: middle;\n",
       "    }\n",
       "\n",
       "    .dataframe tbody tr th {\n",
       "        vertical-align: top;\n",
       "    }\n",
       "\n",
       "    .dataframe thead th {\n",
       "        text-align: right;\n",
       "    }\n",
       "</style>\n",
       "<table border=\"1\" class=\"dataframe\">\n",
       "  <thead>\n",
       "    <tr style=\"text-align: right;\">\n",
       "      <th></th>\n",
       "      <th>Date</th>\n",
       "      <th>Name of State / UT</th>\n",
       "      <th>Latitude</th>\n",
       "      <th>Longitude</th>\n",
       "      <th>Total Confirmed cases</th>\n",
       "      <th>Death</th>\n",
       "      <th>Cured/Discharged/Migrated</th>\n",
       "      <th>New cases</th>\n",
       "      <th>New deaths</th>\n",
       "      <th>New recovered</th>\n",
       "    </tr>\n",
       "  </thead>\n",
       "  <tbody>\n",
       "    <tr>\n",
       "      <th>0</th>\n",
       "      <td>2020-01-30</td>\n",
       "      <td>Kerala</td>\n",
       "      <td>10.8505</td>\n",
       "      <td>76.2711</td>\n",
       "      <td>1.0</td>\n",
       "      <td>0</td>\n",
       "      <td>0.0</td>\n",
       "      <td>0</td>\n",
       "      <td>0</td>\n",
       "      <td>0</td>\n",
       "    </tr>\n",
       "    <tr>\n",
       "      <th>1</th>\n",
       "      <td>2020-01-31</td>\n",
       "      <td>Kerala</td>\n",
       "      <td>10.8505</td>\n",
       "      <td>76.2711</td>\n",
       "      <td>1.0</td>\n",
       "      <td>0</td>\n",
       "      <td>0.0</td>\n",
       "      <td>0</td>\n",
       "      <td>0</td>\n",
       "      <td>0</td>\n",
       "    </tr>\n",
       "    <tr>\n",
       "      <th>2</th>\n",
       "      <td>2020-02-01</td>\n",
       "      <td>Kerala</td>\n",
       "      <td>10.8505</td>\n",
       "      <td>76.2711</td>\n",
       "      <td>2.0</td>\n",
       "      <td>0</td>\n",
       "      <td>0.0</td>\n",
       "      <td>1</td>\n",
       "      <td>0</td>\n",
       "      <td>0</td>\n",
       "    </tr>\n",
       "    <tr>\n",
       "      <th>3</th>\n",
       "      <td>2020-02-02</td>\n",
       "      <td>Kerala</td>\n",
       "      <td>10.8505</td>\n",
       "      <td>76.2711</td>\n",
       "      <td>3.0</td>\n",
       "      <td>0</td>\n",
       "      <td>0.0</td>\n",
       "      <td>1</td>\n",
       "      <td>0</td>\n",
       "      <td>0</td>\n",
       "    </tr>\n",
       "    <tr>\n",
       "      <th>4</th>\n",
       "      <td>2020-02-03</td>\n",
       "      <td>Kerala</td>\n",
       "      <td>10.8505</td>\n",
       "      <td>76.2711</td>\n",
       "      <td>3.0</td>\n",
       "      <td>0</td>\n",
       "      <td>0.0</td>\n",
       "      <td>0</td>\n",
       "      <td>0</td>\n",
       "      <td>0</td>\n",
       "    </tr>\n",
       "  </tbody>\n",
       "</table>\n",
       "</div>"
      ],
      "text/plain": [
       "         Date Name of State / UT  Latitude  Longitude  Total Confirmed cases  \\\n",
       "0  2020-01-30             Kerala   10.8505    76.2711                    1.0   \n",
       "1  2020-01-31             Kerala   10.8505    76.2711                    1.0   \n",
       "2  2020-02-01             Kerala   10.8505    76.2711                    2.0   \n",
       "3  2020-02-02             Kerala   10.8505    76.2711                    3.0   \n",
       "4  2020-02-03             Kerala   10.8505    76.2711                    3.0   \n",
       "\n",
       "  Death  Cured/Discharged/Migrated  New cases  New deaths  New recovered  \n",
       "0     0                        0.0          0           0              0  \n",
       "1     0                        0.0          0           0              0  \n",
       "2     0                        0.0          1           0              0  \n",
       "3     0                        0.0          1           0              0  \n",
       "4     0                        0.0          0           0              0  "
      ]
     },
     "execution_count": 98,
     "metadata": {},
     "output_type": "execute_result"
    }
   ],
   "source": [
    "covid_df.head()"
   ]
  },
  {
   "cell_type": "code",
   "execution_count": 99,
   "id": "01c487c6",
   "metadata": {},
   "outputs": [
    {
     "name": "stdout",
     "output_type": "stream",
     "text": [
      "<class 'pandas.core.frame.DataFrame'>\n",
      "RangeIndex: 4692 entries, 0 to 4691\n",
      "Data columns (total 10 columns):\n",
      " #   Column                     Non-Null Count  Dtype  \n",
      "---  ------                     --------------  -----  \n",
      " 0   Date                       4692 non-null   object \n",
      " 1   Name of State / UT         4692 non-null   object \n",
      " 2   Latitude                   4692 non-null   float64\n",
      " 3   Longitude                  4692 non-null   float64\n",
      " 4   Total Confirmed cases      4692 non-null   float64\n",
      " 5   Death                      4692 non-null   object \n",
      " 6   Cured/Discharged/Migrated  4692 non-null   float64\n",
      " 7   New cases                  4692 non-null   int64  \n",
      " 8   New deaths                 4692 non-null   int64  \n",
      " 9   New recovered              4692 non-null   int64  \n",
      "dtypes: float64(4), int64(3), object(3)\n",
      "memory usage: 366.7+ KB\n"
     ]
    }
   ],
   "source": [
    "covid_df.info()"
   ]
  },
  {
   "cell_type": "code",
   "execution_count": 100,
   "id": "f74787bc",
   "metadata": {},
   "outputs": [
    {
     "data": {
      "text/html": [
       "<div>\n",
       "<style scoped>\n",
       "    .dataframe tbody tr th:only-of-type {\n",
       "        vertical-align: middle;\n",
       "    }\n",
       "\n",
       "    .dataframe tbody tr th {\n",
       "        vertical-align: top;\n",
       "    }\n",
       "\n",
       "    .dataframe thead th {\n",
       "        text-align: right;\n",
       "    }\n",
       "</style>\n",
       "<table border=\"1\" class=\"dataframe\">\n",
       "  <thead>\n",
       "    <tr style=\"text-align: right;\">\n",
       "      <th></th>\n",
       "      <th>Latitude</th>\n",
       "      <th>Longitude</th>\n",
       "      <th>Total Confirmed cases</th>\n",
       "      <th>Cured/Discharged/Migrated</th>\n",
       "      <th>New cases</th>\n",
       "      <th>New deaths</th>\n",
       "      <th>New recovered</th>\n",
       "    </tr>\n",
       "  </thead>\n",
       "  <tbody>\n",
       "    <tr>\n",
       "      <th>count</th>\n",
       "      <td>4692.000000</td>\n",
       "      <td>4692.000000</td>\n",
       "      <td>4692.000000</td>\n",
       "      <td>4692.000000</td>\n",
       "      <td>4692.000000</td>\n",
       "      <td>4692.0</td>\n",
       "      <td>4692.000000</td>\n",
       "    </tr>\n",
       "    <tr>\n",
       "      <th>mean</th>\n",
       "      <td>23.185327</td>\n",
       "      <td>81.451837</td>\n",
       "      <td>11393.925192</td>\n",
       "      <td>6908.130648</td>\n",
       "      <td>418.643009</td>\n",
       "      <td>0.0</td>\n",
       "      <td>283.069054</td>\n",
       "    </tr>\n",
       "    <tr>\n",
       "      <th>std</th>\n",
       "      <td>6.635913</td>\n",
       "      <td>6.959475</td>\n",
       "      <td>37208.600846</td>\n",
       "      <td>23390.671258</td>\n",
       "      <td>1259.748923</td>\n",
       "      <td>0.0</td>\n",
       "      <td>947.925811</td>\n",
       "    </tr>\n",
       "    <tr>\n",
       "      <th>min</th>\n",
       "      <td>0.000000</td>\n",
       "      <td>0.000000</td>\n",
       "      <td>1.000000</td>\n",
       "      <td>0.000000</td>\n",
       "      <td>0.000000</td>\n",
       "      <td>0.0</td>\n",
       "      <td>-1.000000</td>\n",
       "    </tr>\n",
       "    <tr>\n",
       "      <th>25%</th>\n",
       "      <td>18.112400</td>\n",
       "      <td>76.271100</td>\n",
       "      <td>39.000000</td>\n",
       "      <td>9.000000</td>\n",
       "      <td>1.000000</td>\n",
       "      <td>0.0</td>\n",
       "      <td>0.000000</td>\n",
       "    </tr>\n",
       "    <tr>\n",
       "      <th>50%</th>\n",
       "      <td>23.940800</td>\n",
       "      <td>79.019300</td>\n",
       "      <td>619.000000</td>\n",
       "      <td>197.500000</td>\n",
       "      <td>26.000000</td>\n",
       "      <td>0.0</td>\n",
       "      <td>8.000000</td>\n",
       "    </tr>\n",
       "    <tr>\n",
       "      <th>75%</th>\n",
       "      <td>28.218000</td>\n",
       "      <td>85.313100</td>\n",
       "      <td>5233.000000</td>\n",
       "      <td>2736.000000</td>\n",
       "      <td>210.250000</td>\n",
       "      <td>0.0</td>\n",
       "      <td>119.000000</td>\n",
       "    </tr>\n",
       "    <tr>\n",
       "      <th>max</th>\n",
       "      <td>34.299600</td>\n",
       "      <td>94.727800</td>\n",
       "      <td>468265.000000</td>\n",
       "      <td>305521.000000</td>\n",
       "      <td>18366.000000</td>\n",
       "      <td>0.0</td>\n",
       "      <td>13401.000000</td>\n",
       "    </tr>\n",
       "  </tbody>\n",
       "</table>\n",
       "</div>"
      ],
      "text/plain": [
       "          Latitude    Longitude  Total Confirmed cases  \\\n",
       "count  4692.000000  4692.000000            4692.000000   \n",
       "mean     23.185327    81.451837           11393.925192   \n",
       "std       6.635913     6.959475           37208.600846   \n",
       "min       0.000000     0.000000               1.000000   \n",
       "25%      18.112400    76.271100              39.000000   \n",
       "50%      23.940800    79.019300             619.000000   \n",
       "75%      28.218000    85.313100            5233.000000   \n",
       "max      34.299600    94.727800          468265.000000   \n",
       "\n",
       "       Cured/Discharged/Migrated     New cases  New deaths  New recovered  \n",
       "count                4692.000000   4692.000000      4692.0    4692.000000  \n",
       "mean                 6908.130648    418.643009         0.0     283.069054  \n",
       "std                 23390.671258   1259.748923         0.0     947.925811  \n",
       "min                     0.000000      0.000000         0.0      -1.000000  \n",
       "25%                     9.000000      1.000000         0.0       0.000000  \n",
       "50%                   197.500000     26.000000         0.0       8.000000  \n",
       "75%                  2736.000000    210.250000         0.0     119.000000  \n",
       "max                305521.000000  18366.000000         0.0   13401.000000  "
      ]
     },
     "execution_count": 100,
     "metadata": {},
     "output_type": "execute_result"
    }
   ],
   "source": [
    "covid_df.describe()"
   ]
  },
  {
   "cell_type": "code",
   "execution_count": 101,
   "id": "21fb001c",
   "metadata": {},
   "outputs": [],
   "source": [
    "vaccine_df = pd.read_csv(\"C:/Users/Tnluser/Documents/PYTHON_PRACTICE/Puthon Project/project1/dataset/cowin_vaccine_data_statewise.csv\")"
   ]
  },
  {
   "cell_type": "code",
   "execution_count": 102,
   "id": "622c02b7",
   "metadata": {},
   "outputs": [
    {
     "data": {
      "text/html": [
       "<div>\n",
       "<style scoped>\n",
       "    .dataframe tbody tr th:only-of-type {\n",
       "        vertical-align: middle;\n",
       "    }\n",
       "\n",
       "    .dataframe tbody tr th {\n",
       "        vertical-align: top;\n",
       "    }\n",
       "\n",
       "    .dataframe thead th {\n",
       "        text-align: right;\n",
       "    }\n",
       "</style>\n",
       "<table border=\"1\" class=\"dataframe\">\n",
       "  <thead>\n",
       "    <tr style=\"text-align: right;\">\n",
       "      <th></th>\n",
       "      <th>Updated On</th>\n",
       "      <th>State</th>\n",
       "      <th>Total Doses Administered</th>\n",
       "      <th>Sessions</th>\n",
       "      <th>Sites</th>\n",
       "      <th>First Dose Administered</th>\n",
       "      <th>Second Dose Administered</th>\n",
       "      <th>Male (Doses Administered)</th>\n",
       "      <th>Female (Doses Administered)</th>\n",
       "      <th>Transgender (Doses Administered)</th>\n",
       "      <th>...</th>\n",
       "      <th>AEFI</th>\n",
       "      <th>18-44 Years (Doses Administered)</th>\n",
       "      <th>45-60 Years (Doses Administered)</th>\n",
       "      <th>60+ Years (Doses Administered)</th>\n",
       "      <th>18-44 Years (Individuals Vaccinated)</th>\n",
       "      <th>45-60 Years (Individuals Vaccinated)</th>\n",
       "      <th>60+ Years (Individuals Vaccinated)</th>\n",
       "      <th>Male (Individuals Vaccinated)</th>\n",
       "      <th>Female (Individuals Vaccinated)</th>\n",
       "      <th>Transgender (Individuals Vaccinated)</th>\n",
       "    </tr>\n",
       "  </thead>\n",
       "  <tbody>\n",
       "    <tr>\n",
       "      <th>0</th>\n",
       "      <td>16/01/2021</td>\n",
       "      <td>India</td>\n",
       "      <td>48276.0</td>\n",
       "      <td>3455.0</td>\n",
       "      <td>2957.0</td>\n",
       "      <td>48276.0</td>\n",
       "      <td>0.0</td>\n",
       "      <td>NaN</td>\n",
       "      <td>NaN</td>\n",
       "      <td>NaN</td>\n",
       "      <td>...</td>\n",
       "      <td>NaN</td>\n",
       "      <td>NaN</td>\n",
       "      <td>NaN</td>\n",
       "      <td>NaN</td>\n",
       "      <td>NaN</td>\n",
       "      <td>NaN</td>\n",
       "      <td>NaN</td>\n",
       "      <td>23757.0</td>\n",
       "      <td>24517.0</td>\n",
       "      <td>2.0</td>\n",
       "    </tr>\n",
       "    <tr>\n",
       "      <th>1</th>\n",
       "      <td>17/01/2021</td>\n",
       "      <td>India</td>\n",
       "      <td>58604.0</td>\n",
       "      <td>8532.0</td>\n",
       "      <td>4954.0</td>\n",
       "      <td>58604.0</td>\n",
       "      <td>0.0</td>\n",
       "      <td>NaN</td>\n",
       "      <td>NaN</td>\n",
       "      <td>NaN</td>\n",
       "      <td>...</td>\n",
       "      <td>NaN</td>\n",
       "      <td>NaN</td>\n",
       "      <td>NaN</td>\n",
       "      <td>NaN</td>\n",
       "      <td>NaN</td>\n",
       "      <td>NaN</td>\n",
       "      <td>NaN</td>\n",
       "      <td>27348.0</td>\n",
       "      <td>31252.0</td>\n",
       "      <td>4.0</td>\n",
       "    </tr>\n",
       "    <tr>\n",
       "      <th>2</th>\n",
       "      <td>18/01/2021</td>\n",
       "      <td>India</td>\n",
       "      <td>99449.0</td>\n",
       "      <td>13611.0</td>\n",
       "      <td>6583.0</td>\n",
       "      <td>99449.0</td>\n",
       "      <td>0.0</td>\n",
       "      <td>NaN</td>\n",
       "      <td>NaN</td>\n",
       "      <td>NaN</td>\n",
       "      <td>...</td>\n",
       "      <td>NaN</td>\n",
       "      <td>NaN</td>\n",
       "      <td>NaN</td>\n",
       "      <td>NaN</td>\n",
       "      <td>NaN</td>\n",
       "      <td>NaN</td>\n",
       "      <td>NaN</td>\n",
       "      <td>41361.0</td>\n",
       "      <td>58083.0</td>\n",
       "      <td>5.0</td>\n",
       "    </tr>\n",
       "    <tr>\n",
       "      <th>3</th>\n",
       "      <td>19/01/2021</td>\n",
       "      <td>India</td>\n",
       "      <td>195525.0</td>\n",
       "      <td>17855.0</td>\n",
       "      <td>7951.0</td>\n",
       "      <td>195525.0</td>\n",
       "      <td>0.0</td>\n",
       "      <td>NaN</td>\n",
       "      <td>NaN</td>\n",
       "      <td>NaN</td>\n",
       "      <td>...</td>\n",
       "      <td>NaN</td>\n",
       "      <td>NaN</td>\n",
       "      <td>NaN</td>\n",
       "      <td>NaN</td>\n",
       "      <td>NaN</td>\n",
       "      <td>NaN</td>\n",
       "      <td>NaN</td>\n",
       "      <td>81901.0</td>\n",
       "      <td>113613.0</td>\n",
       "      <td>11.0</td>\n",
       "    </tr>\n",
       "    <tr>\n",
       "      <th>4</th>\n",
       "      <td>20/01/2021</td>\n",
       "      <td>India</td>\n",
       "      <td>251280.0</td>\n",
       "      <td>25472.0</td>\n",
       "      <td>10504.0</td>\n",
       "      <td>251280.0</td>\n",
       "      <td>0.0</td>\n",
       "      <td>NaN</td>\n",
       "      <td>NaN</td>\n",
       "      <td>NaN</td>\n",
       "      <td>...</td>\n",
       "      <td>NaN</td>\n",
       "      <td>NaN</td>\n",
       "      <td>NaN</td>\n",
       "      <td>NaN</td>\n",
       "      <td>NaN</td>\n",
       "      <td>NaN</td>\n",
       "      <td>NaN</td>\n",
       "      <td>98111.0</td>\n",
       "      <td>153145.0</td>\n",
       "      <td>24.0</td>\n",
       "    </tr>\n",
       "  </tbody>\n",
       "</table>\n",
       "<p>5 rows × 23 columns</p>\n",
       "</div>"
      ],
      "text/plain": [
       "   Updated On  State  Total Doses Administered  Sessions    Sites  \\\n",
       "0  16/01/2021  India                   48276.0    3455.0   2957.0   \n",
       "1  17/01/2021  India                   58604.0    8532.0   4954.0   \n",
       "2  18/01/2021  India                   99449.0   13611.0   6583.0   \n",
       "3  19/01/2021  India                  195525.0   17855.0   7951.0   \n",
       "4  20/01/2021  India                  251280.0   25472.0  10504.0   \n",
       "\n",
       "   First Dose Administered  Second Dose Administered  \\\n",
       "0                  48276.0                       0.0   \n",
       "1                  58604.0                       0.0   \n",
       "2                  99449.0                       0.0   \n",
       "3                 195525.0                       0.0   \n",
       "4                 251280.0                       0.0   \n",
       "\n",
       "   Male (Doses Administered)  Female (Doses Administered)  \\\n",
       "0                        NaN                          NaN   \n",
       "1                        NaN                          NaN   \n",
       "2                        NaN                          NaN   \n",
       "3                        NaN                          NaN   \n",
       "4                        NaN                          NaN   \n",
       "\n",
       "   Transgender (Doses Administered)  ...  AEFI  \\\n",
       "0                               NaN  ...   NaN   \n",
       "1                               NaN  ...   NaN   \n",
       "2                               NaN  ...   NaN   \n",
       "3                               NaN  ...   NaN   \n",
       "4                               NaN  ...   NaN   \n",
       "\n",
       "   18-44 Years (Doses Administered)  45-60 Years (Doses Administered)  \\\n",
       "0                               NaN                               NaN   \n",
       "1                               NaN                               NaN   \n",
       "2                               NaN                               NaN   \n",
       "3                               NaN                               NaN   \n",
       "4                               NaN                               NaN   \n",
       "\n",
       "   60+ Years (Doses Administered)  18-44 Years (Individuals Vaccinated)  \\\n",
       "0                             NaN                                   NaN   \n",
       "1                             NaN                                   NaN   \n",
       "2                             NaN                                   NaN   \n",
       "3                             NaN                                   NaN   \n",
       "4                             NaN                                   NaN   \n",
       "\n",
       "   45-60 Years (Individuals Vaccinated)  60+ Years (Individuals Vaccinated)  \\\n",
       "0                                   NaN                                 NaN   \n",
       "1                                   NaN                                 NaN   \n",
       "2                                   NaN                                 NaN   \n",
       "3                                   NaN                                 NaN   \n",
       "4                                   NaN                                 NaN   \n",
       "\n",
       "   Male (Individuals Vaccinated)  Female (Individuals Vaccinated)  \\\n",
       "0                        23757.0                          24517.0   \n",
       "1                        27348.0                          31252.0   \n",
       "2                        41361.0                          58083.0   \n",
       "3                        81901.0                         113613.0   \n",
       "4                        98111.0                         153145.0   \n",
       "\n",
       "   Transgender (Individuals Vaccinated)  \n",
       "0                                   2.0  \n",
       "1                                   4.0  \n",
       "2                                   5.0  \n",
       "3                                  11.0  \n",
       "4                                  24.0  \n",
       "\n",
       "[5 rows x 23 columns]"
      ]
     },
     "execution_count": 102,
     "metadata": {},
     "output_type": "execute_result"
    }
   ],
   "source": [
    "vaccine_df.head()"
   ]
  },
  {
   "cell_type": "code",
   "execution_count": 103,
   "id": "87f26912",
   "metadata": {},
   "outputs": [
    {
     "data": {
      "text/html": [
       "<div>\n",
       "<style scoped>\n",
       "    .dataframe tbody tr th:only-of-type {\n",
       "        vertical-align: middle;\n",
       "    }\n",
       "\n",
       "    .dataframe tbody tr th {\n",
       "        vertical-align: top;\n",
       "    }\n",
       "\n",
       "    .dataframe thead th {\n",
       "        text-align: right;\n",
       "    }\n",
       "</style>\n",
       "<table border=\"1\" class=\"dataframe\">\n",
       "  <thead>\n",
       "    <tr style=\"text-align: right;\">\n",
       "      <th></th>\n",
       "      <th>Date</th>\n",
       "      <th>Name of State / UT</th>\n",
       "      <th>Latitude</th>\n",
       "      <th>Longitude</th>\n",
       "      <th>Total Confirmed cases</th>\n",
       "      <th>Death</th>\n",
       "      <th>Cured/Discharged/Migrated</th>\n",
       "      <th>New cases</th>\n",
       "      <th>New deaths</th>\n",
       "      <th>New recovered</th>\n",
       "    </tr>\n",
       "  </thead>\n",
       "  <tbody>\n",
       "    <tr>\n",
       "      <th>0</th>\n",
       "      <td>2020-01-30</td>\n",
       "      <td>Kerala</td>\n",
       "      <td>10.8505</td>\n",
       "      <td>76.2711</td>\n",
       "      <td>1.0</td>\n",
       "      <td>0</td>\n",
       "      <td>0.0</td>\n",
       "      <td>0</td>\n",
       "      <td>0</td>\n",
       "      <td>0</td>\n",
       "    </tr>\n",
       "    <tr>\n",
       "      <th>1</th>\n",
       "      <td>2020-01-31</td>\n",
       "      <td>Kerala</td>\n",
       "      <td>10.8505</td>\n",
       "      <td>76.2711</td>\n",
       "      <td>1.0</td>\n",
       "      <td>0</td>\n",
       "      <td>0.0</td>\n",
       "      <td>0</td>\n",
       "      <td>0</td>\n",
       "      <td>0</td>\n",
       "    </tr>\n",
       "  </tbody>\n",
       "</table>\n",
       "</div>"
      ],
      "text/plain": [
       "         Date Name of State / UT  Latitude  Longitude  Total Confirmed cases  \\\n",
       "0  2020-01-30             Kerala   10.8505    76.2711                    1.0   \n",
       "1  2020-01-31             Kerala   10.8505    76.2711                    1.0   \n",
       "\n",
       "  Death  Cured/Discharged/Migrated  New cases  New deaths  New recovered  \n",
       "0     0                        0.0          0           0              0  \n",
       "1     0                        0.0          0           0              0  "
      ]
     },
     "execution_count": 103,
     "metadata": {},
     "output_type": "execute_result"
    }
   ],
   "source": [
    "covid_df.head(2)"
   ]
  },
  {
   "cell_type": "code",
   "execution_count": 104,
   "id": "6cc6e302",
   "metadata": {},
   "outputs": [],
   "source": [
    "covid_df.drop(['Latitude','Longitude','New cases','New deaths','New recovered'],axis=1,inplace=True)"
   ]
  },
  {
   "cell_type": "code",
   "execution_count": 105,
   "id": "6a47f66a",
   "metadata": {},
   "outputs": [
    {
     "data": {
      "text/html": [
       "<div>\n",
       "<style scoped>\n",
       "    .dataframe tbody tr th:only-of-type {\n",
       "        vertical-align: middle;\n",
       "    }\n",
       "\n",
       "    .dataframe tbody tr th {\n",
       "        vertical-align: top;\n",
       "    }\n",
       "\n",
       "    .dataframe thead th {\n",
       "        text-align: right;\n",
       "    }\n",
       "</style>\n",
       "<table border=\"1\" class=\"dataframe\">\n",
       "  <thead>\n",
       "    <tr style=\"text-align: right;\">\n",
       "      <th></th>\n",
       "      <th>Date</th>\n",
       "      <th>Name of State / UT</th>\n",
       "      <th>Total Confirmed cases</th>\n",
       "      <th>Death</th>\n",
       "      <th>Cured/Discharged/Migrated</th>\n",
       "    </tr>\n",
       "  </thead>\n",
       "  <tbody>\n",
       "    <tr>\n",
       "      <th>0</th>\n",
       "      <td>2020-01-30</td>\n",
       "      <td>Kerala</td>\n",
       "      <td>1.0</td>\n",
       "      <td>0</td>\n",
       "      <td>0.0</td>\n",
       "    </tr>\n",
       "    <tr>\n",
       "      <th>1</th>\n",
       "      <td>2020-01-31</td>\n",
       "      <td>Kerala</td>\n",
       "      <td>1.0</td>\n",
       "      <td>0</td>\n",
       "      <td>0.0</td>\n",
       "    </tr>\n",
       "    <tr>\n",
       "      <th>2</th>\n",
       "      <td>2020-02-01</td>\n",
       "      <td>Kerala</td>\n",
       "      <td>2.0</td>\n",
       "      <td>0</td>\n",
       "      <td>0.0</td>\n",
       "    </tr>\n",
       "    <tr>\n",
       "      <th>3</th>\n",
       "      <td>2020-02-02</td>\n",
       "      <td>Kerala</td>\n",
       "      <td>3.0</td>\n",
       "      <td>0</td>\n",
       "      <td>0.0</td>\n",
       "    </tr>\n",
       "    <tr>\n",
       "      <th>4</th>\n",
       "      <td>2020-02-03</td>\n",
       "      <td>Kerala</td>\n",
       "      <td>3.0</td>\n",
       "      <td>0</td>\n",
       "      <td>0.0</td>\n",
       "    </tr>\n",
       "  </tbody>\n",
       "</table>\n",
       "</div>"
      ],
      "text/plain": [
       "         Date Name of State / UT  Total Confirmed cases Death  \\\n",
       "0  2020-01-30             Kerala                    1.0     0   \n",
       "1  2020-01-31             Kerala                    1.0     0   \n",
       "2  2020-02-01             Kerala                    2.0     0   \n",
       "3  2020-02-02             Kerala                    3.0     0   \n",
       "4  2020-02-03             Kerala                    3.0     0   \n",
       "\n",
       "   Cured/Discharged/Migrated  \n",
       "0                        0.0  \n",
       "1                        0.0  \n",
       "2                        0.0  \n",
       "3                        0.0  \n",
       "4                        0.0  "
      ]
     },
     "execution_count": 105,
     "metadata": {},
     "output_type": "execute_result"
    }
   ],
   "source": [
    "covid_df.head()"
   ]
  },
  {
   "cell_type": "code",
   "execution_count": 106,
   "id": "91f211f9",
   "metadata": {},
   "outputs": [],
   "source": [
    "covid_df['Date'] = pd.to_datetime(covid_df['Date'],format='%Y-%m-%d')"
   ]
  },
  {
   "cell_type": "code",
   "execution_count": 107,
   "id": "a9a309e3",
   "metadata": {},
   "outputs": [
    {
     "data": {
      "text/html": [
       "<div>\n",
       "<style scoped>\n",
       "    .dataframe tbody tr th:only-of-type {\n",
       "        vertical-align: middle;\n",
       "    }\n",
       "\n",
       "    .dataframe tbody tr th {\n",
       "        vertical-align: top;\n",
       "    }\n",
       "\n",
       "    .dataframe thead th {\n",
       "        text-align: right;\n",
       "    }\n",
       "</style>\n",
       "<table border=\"1\" class=\"dataframe\">\n",
       "  <thead>\n",
       "    <tr style=\"text-align: right;\">\n",
       "      <th></th>\n",
       "      <th>Date</th>\n",
       "      <th>Name of State / UT</th>\n",
       "      <th>Total Confirmed cases</th>\n",
       "      <th>Death</th>\n",
       "      <th>Cured/Discharged/Migrated</th>\n",
       "    </tr>\n",
       "  </thead>\n",
       "  <tbody>\n",
       "    <tr>\n",
       "      <th>0</th>\n",
       "      <td>2020-01-30</td>\n",
       "      <td>Kerala</td>\n",
       "      <td>1.0</td>\n",
       "      <td>0</td>\n",
       "      <td>0.0</td>\n",
       "    </tr>\n",
       "    <tr>\n",
       "      <th>1</th>\n",
       "      <td>2020-01-31</td>\n",
       "      <td>Kerala</td>\n",
       "      <td>1.0</td>\n",
       "      <td>0</td>\n",
       "      <td>0.0</td>\n",
       "    </tr>\n",
       "    <tr>\n",
       "      <th>2</th>\n",
       "      <td>2020-02-01</td>\n",
       "      <td>Kerala</td>\n",
       "      <td>2.0</td>\n",
       "      <td>0</td>\n",
       "      <td>0.0</td>\n",
       "    </tr>\n",
       "    <tr>\n",
       "      <th>3</th>\n",
       "      <td>2020-02-02</td>\n",
       "      <td>Kerala</td>\n",
       "      <td>3.0</td>\n",
       "      <td>0</td>\n",
       "      <td>0.0</td>\n",
       "    </tr>\n",
       "    <tr>\n",
       "      <th>4</th>\n",
       "      <td>2020-02-03</td>\n",
       "      <td>Kerala</td>\n",
       "      <td>3.0</td>\n",
       "      <td>0</td>\n",
       "      <td>0.0</td>\n",
       "    </tr>\n",
       "  </tbody>\n",
       "</table>\n",
       "</div>"
      ],
      "text/plain": [
       "        Date Name of State / UT  Total Confirmed cases Death  \\\n",
       "0 2020-01-30             Kerala                    1.0     0   \n",
       "1 2020-01-31             Kerala                    1.0     0   \n",
       "2 2020-02-01             Kerala                    2.0     0   \n",
       "3 2020-02-02             Kerala                    3.0     0   \n",
       "4 2020-02-03             Kerala                    3.0     0   \n",
       "\n",
       "   Cured/Discharged/Migrated  \n",
       "0                        0.0  \n",
       "1                        0.0  \n",
       "2                        0.0  \n",
       "3                        0.0  \n",
       "4                        0.0  "
      ]
     },
     "execution_count": 107,
     "metadata": {},
     "output_type": "execute_result"
    }
   ],
   "source": [
    "covid_df.head()"
   ]
  },
  {
   "cell_type": "code",
   "execution_count": 108,
   "id": "3745a047",
   "metadata": {},
   "outputs": [],
   "source": [
    "covid_df.rename(columns ={'Total Confirmed cases':'Confirmed','Cured/Discharged/Migrated':\"cured\"},inplace=True)"
   ]
  },
  {
   "cell_type": "code",
   "execution_count": 109,
   "id": "a4423ae3",
   "metadata": {},
   "outputs": [
    {
     "data": {
      "text/html": [
       "<div>\n",
       "<style scoped>\n",
       "    .dataframe tbody tr th:only-of-type {\n",
       "        vertical-align: middle;\n",
       "    }\n",
       "\n",
       "    .dataframe tbody tr th {\n",
       "        vertical-align: top;\n",
       "    }\n",
       "\n",
       "    .dataframe thead th {\n",
       "        text-align: right;\n",
       "    }\n",
       "</style>\n",
       "<table border=\"1\" class=\"dataframe\">\n",
       "  <thead>\n",
       "    <tr style=\"text-align: right;\">\n",
       "      <th></th>\n",
       "      <th>Date</th>\n",
       "      <th>Name of State / UT</th>\n",
       "      <th>Confirmed</th>\n",
       "      <th>Death</th>\n",
       "      <th>cured</th>\n",
       "      <th>Active_cases</th>\n",
       "    </tr>\n",
       "  </thead>\n",
       "  <tbody>\n",
       "    <tr>\n",
       "      <th>4687</th>\n",
       "      <td>2020-08-06</td>\n",
       "      <td>Telangana</td>\n",
       "      <td>73050.0</td>\n",
       "      <td>589</td>\n",
       "      <td>52103.0</td>\n",
       "      <td>20947.0</td>\n",
       "    </tr>\n",
       "    <tr>\n",
       "      <th>4688</th>\n",
       "      <td>2020-08-06</td>\n",
       "      <td>Tripura</td>\n",
       "      <td>5725.0</td>\n",
       "      <td>31</td>\n",
       "      <td>3793.0</td>\n",
       "      <td>1932.0</td>\n",
       "    </tr>\n",
       "    <tr>\n",
       "      <th>4689</th>\n",
       "      <td>2020-08-06</td>\n",
       "      <td>Uttar Pradesh</td>\n",
       "      <td>104388.0</td>\n",
       "      <td>1857</td>\n",
       "      <td>60558.0</td>\n",
       "      <td>43830.0</td>\n",
       "    </tr>\n",
       "    <tr>\n",
       "      <th>4690</th>\n",
       "      <td>2020-08-06</td>\n",
       "      <td>Uttarakhand</td>\n",
       "      <td>8254.0</td>\n",
       "      <td>98</td>\n",
       "      <td>5233.0</td>\n",
       "      <td>3021.0</td>\n",
       "    </tr>\n",
       "    <tr>\n",
       "      <th>4691</th>\n",
       "      <td>2020-08-06</td>\n",
       "      <td>West Bengal</td>\n",
       "      <td>83800.0</td>\n",
       "      <td>1846</td>\n",
       "      <td>58962.0</td>\n",
       "      <td>24838.0</td>\n",
       "    </tr>\n",
       "  </tbody>\n",
       "</table>\n",
       "</div>"
      ],
      "text/plain": [
       "           Date Name of State / UT  Confirmed Death    cured  Active_cases\n",
       "4687 2020-08-06          Telangana    73050.0   589  52103.0       20947.0\n",
       "4688 2020-08-06            Tripura     5725.0    31   3793.0        1932.0\n",
       "4689 2020-08-06      Uttar Pradesh   104388.0  1857  60558.0       43830.0\n",
       "4690 2020-08-06        Uttarakhand     8254.0    98   5233.0        3021.0\n",
       "4691 2020-08-06        West Bengal    83800.0  1846  58962.0       24838.0"
      ]
     },
     "execution_count": 109,
     "metadata": {},
     "output_type": "execute_result"
    }
   ],
   "source": [
    "# Active cases\n",
    "covid_df['Active_cases'] = covid_df['Confirmed']- covid_df['cured']\n",
    "covid_df.tail()"
   ]
  },
  {
   "cell_type": "code",
   "execution_count": 110,
   "id": "b5275227",
   "metadata": {},
   "outputs": [],
   "source": [
    "statewise = pd.pivot_table(covid_df,values=['Confirmed','Death','cured'],index=\"Name of State / UT\",aggfunc=max)"
   ]
  },
  {
   "cell_type": "code",
   "execution_count": 111,
   "id": "64ed9c90",
   "metadata": {},
   "outputs": [],
   "source": [
    "# find out the recovery rate\n",
    "\n",
    "statewise['Recovery Rate'] = statewise['cured']*100/statewise['Confirmed']"
   ]
  },
  {
   "cell_type": "code",
   "execution_count": 112,
   "id": "4526c71d",
   "metadata": {},
   "outputs": [],
   "source": [
    "statewise = statewise.sort_values(by='Confirmed',ascending=False)"
   ]
  },
  {
   "cell_type": "code",
   "execution_count": 113,
   "id": "0097cc82",
   "metadata": {},
   "outputs": [
    {
     "data": {
      "text/html": [
       "<style type=\"text/css\">\n",
       "#T_d4950_row0_col0, #T_d4950_row0_col2, #T_d4950_row4_col3 {\n",
       "  background-color: #ffffff;\n",
       "  color: #000000;\n",
       "}\n",
       "#T_d4950_row0_col3, #T_d4950_row18_col3, #T_d4950_row29_col3 {\n",
       "  background-color: #cba8e5;\n",
       "  color: #000000;\n",
       "}\n",
       "#T_d4950_row1_col0 {\n",
       "  background-color: #cc7c86;\n",
       "  color: #f1f1f1;\n",
       "}\n",
       "#T_d4950_row1_col2 {\n",
       "  background-color: #cf9ddb;\n",
       "  color: #000000;\n",
       "}\n",
       "#T_d4950_row1_col3 {\n",
       "  background-color: #cae7f0;\n",
       "  color: #000000;\n",
       "}\n",
       "#T_d4950_row2_col0, #T_d4950_row34_col3 {\n",
       "  background-color: #51792f;\n",
       "  color: #f1f1f1;\n",
       "}\n",
       "#T_d4950_row2_col2 {\n",
       "  background-color: #2f7137;\n",
       "  color: #f1f1f1;\n",
       "}\n",
       "#T_d4950_row2_col3 {\n",
       "  background-color: #d383a6;\n",
       "  color: #f1f1f1;\n",
       "}\n",
       "#T_d4950_row3_col0 {\n",
       "  background-color: #266c3c;\n",
       "  color: #f1f1f1;\n",
       "}\n",
       "#T_d4950_row3_col2 {\n",
       "  background-color: #15504d;\n",
       "  color: #f1f1f1;\n",
       "}\n",
       "#T_d4950_row3_col3 {\n",
       "  background-color: #be796a;\n",
       "  color: #f1f1f1;\n",
       "}\n",
       "#T_d4950_row4_col0 {\n",
       "  background-color: #1e6542;\n",
       "  color: #f1f1f1;\n",
       "}\n",
       "#T_d4950_row4_col2 {\n",
       "  background-color: #5d7a2f;\n",
       "  color: #f1f1f1;\n",
       "}\n",
       "#T_d4950_row5_col0 {\n",
       "  background-color: #15474e;\n",
       "  color: #f1f1f1;\n",
       "}\n",
       "#T_d4950_row5_col2 {\n",
       "  background-color: #163b4e;\n",
       "  color: #f1f1f1;\n",
       "}\n",
       "#T_d4950_row5_col3 {\n",
       "  background-color: #d589b8;\n",
       "  color: #f1f1f1;\n",
       "}\n",
       "#T_d4950_row6_col0 {\n",
       "  background-color: #18324b;\n",
       "  color: #f1f1f1;\n",
       "}\n",
       "#T_d4950_row6_col2 {\n",
       "  background-color: #16394d;\n",
       "  color: #f1f1f1;\n",
       "}\n",
       "#T_d4950_row6_col3, #T_d4950_row31_col3 {\n",
       "  background-color: #c2c3f2;\n",
       "  color: #000000;\n",
       "}\n",
       "#T_d4950_row7_col0 {\n",
       "  background-color: #192845;\n",
       "  color: #f1f1f1;\n",
       "}\n",
       "#T_d4950_row7_col2 {\n",
       "  background-color: #182f49;\n",
       "  color: #f1f1f1;\n",
       "}\n",
       "#T_d4950_row7_col3, #T_d4950_row12_col3 {\n",
       "  background-color: #c2c8f3;\n",
       "  color: #000000;\n",
       "}\n",
       "#T_d4950_row8_col0 {\n",
       "  background-color: #1a2441;\n",
       "  color: #f1f1f1;\n",
       "}\n",
       "#T_d4950_row8_col2 {\n",
       "  background-color: #192c47;\n",
       "  color: #f1f1f1;\n",
       "}\n",
       "#T_d4950_row8_col3 {\n",
       "  background-color: #c2d6f3;\n",
       "  color: #000000;\n",
       "}\n",
       "#T_d4950_row9_col0, #T_d4950_row9_col2 {\n",
       "  background-color: #1a2240;\n",
       "  color: #f1f1f1;\n",
       "}\n",
       "#T_d4950_row9_col3 {\n",
       "  background-color: #caa9e7;\n",
       "  color: #000000;\n",
       "}\n",
       "#T_d4950_row10_col0, #T_d4950_row12_col2 {\n",
       "  background-color: #1a1835;\n",
       "  color: #f1f1f1;\n",
       "}\n",
       "#T_d4950_row10_col2 {\n",
       "  background-color: #1b1f3d;\n",
       "  color: #f1f1f1;\n",
       "}\n",
       "#T_d4950_row10_col3 {\n",
       "  background-color: #c6e0f1;\n",
       "  color: #000000;\n",
       "}\n",
       "#T_d4950_row11_col0 {\n",
       "  background-color: #1a1733;\n",
       "  color: #f1f1f1;\n",
       "}\n",
       "#T_d4950_row11_col2 {\n",
       "  background-color: #1b1b38;\n",
       "  color: #f1f1f1;\n",
       "}\n",
       "#T_d4950_row11_col3, #T_d4950_row22_col3 {\n",
       "  background-color: #c2c6f3;\n",
       "  color: #000000;\n",
       "}\n",
       "#T_d4950_row12_col0 {\n",
       "  background-color: #1a142f;\n",
       "  color: #f1f1f1;\n",
       "}\n",
       "#T_d4950_row13_col0, #T_d4950_row13_col2, #T_d4950_row14_col0, #T_d4950_row15_col2 {\n",
       "  background-color: #181027;\n",
       "  color: #f1f1f1;\n",
       "}\n",
       "#T_d4950_row13_col3 {\n",
       "  background-color: #caabe8;\n",
       "  color: #000000;\n",
       "}\n",
       "#T_d4950_row14_col2 {\n",
       "  background-color: #1a1631;\n",
       "  color: #f1f1f1;\n",
       "}\n",
       "#T_d4950_row14_col3 {\n",
       "  background-color: #dcf3ef;\n",
       "  color: #000000;\n",
       "}\n",
       "#T_d4950_row15_col0 {\n",
       "  background-color: #170e23;\n",
       "  color: #f1f1f1;\n",
       "}\n",
       "#T_d4950_row15_col3 {\n",
       "  background-color: #c1cff3;\n",
       "  color: #000000;\n",
       "}\n",
       "#T_d4950_row16_col0 {\n",
       "  background-color: #140a1b;\n",
       "  color: #f1f1f1;\n",
       "}\n",
       "#T_d4950_row16_col2 {\n",
       "  background-color: #130919;\n",
       "  color: #f1f1f1;\n",
       "}\n",
       "#T_d4950_row16_col3, #T_d4950_row24_col3, #T_d4950_row26_col3 {\n",
       "  background-color: #d391c9;\n",
       "  color: #f1f1f1;\n",
       "}\n",
       "#T_d4950_row17_col0, #T_d4950_row17_col2 {\n",
       "  background-color: #110815;\n",
       "  color: #f1f1f1;\n",
       "}\n",
       "#T_d4950_row17_col3 {\n",
       "  background-color: #c8afea;\n",
       "  color: #000000;\n",
       "}\n",
       "#T_d4950_row18_col0, #T_d4950_row18_col2 {\n",
       "  background-color: #0f0611;\n",
       "  color: #f1f1f1;\n",
       "}\n",
       "#T_d4950_row19_col0 {\n",
       "  background-color: #0c050e;\n",
       "  color: #f1f1f1;\n",
       "}\n",
       "#T_d4950_row19_col2, #T_d4950_row21_col0, #T_d4950_row21_col2, #T_d4950_row22_col0, #T_d4950_row22_col2 {\n",
       "  background-color: #070206;\n",
       "  color: #f1f1f1;\n",
       "}\n",
       "#T_d4950_row19_col3 {\n",
       "  background-color: #697b30;\n",
       "  color: #f1f1f1;\n",
       "}\n",
       "#T_d4950_row20_col0 {\n",
       "  background-color: #080308;\n",
       "  color: #f1f1f1;\n",
       "}\n",
       "#T_d4950_row20_col2 {\n",
       "  background-color: #0a030a;\n",
       "  color: #f1f1f1;\n",
       "}\n",
       "#T_d4950_row20_col3 {\n",
       "  background-color: #c4dcf2;\n",
       "  color: #000000;\n",
       "}\n",
       "#T_d4950_row21_col3 {\n",
       "  background-color: #cf9fdd;\n",
       "  color: #000000;\n",
       "}\n",
       "#T_d4950_row23_col0, #T_d4950_row23_col2 {\n",
       "  background-color: #050205;\n",
       "  color: #f1f1f1;\n",
       "}\n",
       "#T_d4950_row23_col3 {\n",
       "  background-color: #c9ade9;\n",
       "  color: #000000;\n",
       "}\n",
       "#T_d4950_row24_col0, #T_d4950_row24_col2, #T_d4950_row25_col0 {\n",
       "  background-color: #030103;\n",
       "  color: #f1f1f1;\n",
       "}\n",
       "#T_d4950_row25_col2, #T_d4950_row26_col0, #T_d4950_row26_col2, #T_d4950_row27_col0, #T_d4950_row27_col2, #T_d4950_row28_col0, #T_d4950_row29_col0, #T_d4950_row29_col2 {\n",
       "  background-color: #020102;\n",
       "  color: #f1f1f1;\n",
       "}\n",
       "#T_d4950_row25_col3 {\n",
       "  background-color: #997944;\n",
       "  color: #f1f1f1;\n",
       "}\n",
       "#T_d4950_row27_col3 {\n",
       "  background-color: #d392cb;\n",
       "  color: #f1f1f1;\n",
       "}\n",
       "#T_d4950_row28_col2, #T_d4950_row30_col0, #T_d4950_row30_col2, #T_d4950_row31_col0, #T_d4950_row31_col2, #T_d4950_row32_col0, #T_d4950_row32_col2, #T_d4950_row33_col0, #T_d4950_row33_col2, #T_d4950_row34_col0, #T_d4950_row34_col2, #T_d4950_row35_col0, #T_d4950_row35_col2, #T_d4950_row36_col0, #T_d4950_row36_col2, #T_d4950_row37_col0, #T_d4950_row37_col2, #T_d4950_row37_col3, #T_d4950_row38_col0, #T_d4950_row38_col2, #T_d4950_row38_col3, #T_d4950_row39_col0, #T_d4950_row39_col2, #T_d4950_row39_col3 {\n",
       "  background-color: #000000;\n",
       "  color: #f1f1f1;\n",
       "}\n",
       "#T_d4950_row28_col3 {\n",
       "  background-color: #206840;\n",
       "  color: #f1f1f1;\n",
       "}\n",
       "#T_d4950_row30_col3 {\n",
       "  background-color: #c1d1f3;\n",
       "  color: #000000;\n",
       "}\n",
       "#T_d4950_row32_col3 {\n",
       "  background-color: #d484a9;\n",
       "  color: #f1f1f1;\n",
       "}\n",
       "#T_d4950_row33_col3 {\n",
       "  background-color: #357435;\n",
       "  color: #f1f1f1;\n",
       "}\n",
       "#T_d4950_row35_col3 {\n",
       "  background-color: #637a2f;\n",
       "  color: #f1f1f1;\n",
       "}\n",
       "#T_d4950_row36_col3 {\n",
       "  background-color: #ce7d8c;\n",
       "  color: #f1f1f1;\n",
       "}\n",
       "</style>\n",
       "<table id=\"T_d4950\">\n",
       "  <thead>\n",
       "    <tr>\n",
       "      <th class=\"blank level0\" >&nbsp;</th>\n",
       "      <th id=\"T_d4950_level0_col0\" class=\"col_heading level0 col0\" >Confirmed</th>\n",
       "      <th id=\"T_d4950_level0_col1\" class=\"col_heading level0 col1\" >Death</th>\n",
       "      <th id=\"T_d4950_level0_col2\" class=\"col_heading level0 col2\" >cured</th>\n",
       "      <th id=\"T_d4950_level0_col3\" class=\"col_heading level0 col3\" >Recovery Rate</th>\n",
       "    </tr>\n",
       "    <tr>\n",
       "      <th class=\"index_name level0\" >Name of State / UT</th>\n",
       "      <th class=\"blank col0\" >&nbsp;</th>\n",
       "      <th class=\"blank col1\" >&nbsp;</th>\n",
       "      <th class=\"blank col2\" >&nbsp;</th>\n",
       "      <th class=\"blank col3\" >&nbsp;</th>\n",
       "    </tr>\n",
       "  </thead>\n",
       "  <tbody>\n",
       "    <tr>\n",
       "      <th id=\"T_d4950_level0_row0\" class=\"row_heading level0 row0\" >Maharashtra</th>\n",
       "      <td id=\"T_d4950_row0_col0\" class=\"data row0 col0\" >468265.000000</td>\n",
       "      <td id=\"T_d4950_row0_col1\" class=\"data row0 col1\" >9893</td>\n",
       "      <td id=\"T_d4950_row0_col2\" class=\"data row0 col2\" >305521.000000</td>\n",
       "      <td id=\"T_d4950_row0_col3\" class=\"data row0 col3\" >65.245320</td>\n",
       "    </tr>\n",
       "    <tr>\n",
       "      <th id=\"T_d4950_level0_row1\" class=\"row_heading level0 row1\" >Tamil Nadu</th>\n",
       "      <td id=\"T_d4950_row1_col0\" class=\"data row1 col0\" >273460.000000</td>\n",
       "      <td id=\"T_d4950_row1_col1\" class=\"data row1 col1\" >98</td>\n",
       "      <td id=\"T_d4950_row1_col2\" class=\"data row1 col2\" >214815.000000</td>\n",
       "      <td id=\"T_d4950_row1_col3\" class=\"data row1 col3\" >78.554450</td>\n",
       "    </tr>\n",
       "    <tr>\n",
       "      <th id=\"T_d4950_level0_row2\" class=\"row_heading level0 row2\" >Andhra Pradesh</th>\n",
       "      <td id=\"T_d4950_row2_col0\" class=\"data row2 col0\" >186461.000000</td>\n",
       "      <td id=\"T_d4950_row2_col1\" class=\"data row2 col1\" >985</td>\n",
       "      <td id=\"T_d4950_row2_col2\" class=\"data row2 col2\" >104354.000000</td>\n",
       "      <td id=\"T_d4950_row2_col3\" class=\"data row2 col3\" >55.965591</td>\n",
       "    </tr>\n",
       "    <tr>\n",
       "      <th id=\"T_d4950_level0_row3\" class=\"row_heading level0 row3\" >Karnataka</th>\n",
       "      <td id=\"T_d4950_row3_col0\" class=\"data row3 col0\" >151449.000000</td>\n",
       "      <td id=\"T_d4950_row3_col1\" class=\"data row3 col1\" >94</td>\n",
       "      <td id=\"T_d4950_row3_col2\" class=\"data row3 col2\" >74679.000000</td>\n",
       "      <td id=\"T_d4950_row3_col3\" class=\"data row3 col3\" >49.309669</td>\n",
       "    </tr>\n",
       "    <tr>\n",
       "      <th id=\"T_d4950_level0_row4\" class=\"row_heading level0 row4\" >Delhi</th>\n",
       "      <td id=\"T_d4950_row4_col0\" class=\"data row4 col0\" >140232.000000</td>\n",
       "      <td id=\"T_d4950_row4_col1\" class=\"data row4 col1\" >984</td>\n",
       "      <td id=\"T_d4950_row4_col2\" class=\"data row4 col2\" >126116.000000</td>\n",
       "      <td id=\"T_d4950_row4_col3\" class=\"data row4 col3\" >89.933824</td>\n",
       "    </tr>\n",
       "    <tr>\n",
       "      <th id=\"T_d4950_level0_row5\" class=\"row_heading level0 row5\" >Uttar Pradesh</th>\n",
       "      <td id=\"T_d4950_row5_col0\" class=\"data row5 col0\" >104388.000000</td>\n",
       "      <td id=\"T_d4950_row5_col1\" class=\"data row5 col1\" >983</td>\n",
       "      <td id=\"T_d4950_row5_col2\" class=\"data row5 col2\" >60558.000000</td>\n",
       "      <td id=\"T_d4950_row5_col3\" class=\"data row5 col3\" >58.012415</td>\n",
       "    </tr>\n",
       "    <tr>\n",
       "      <th id=\"T_d4950_level0_row6\" class=\"row_heading level0 row6\" >West Bengal</th>\n",
       "      <td id=\"T_d4950_row6_col0\" class=\"data row6 col0\" >83800.000000</td>\n",
       "      <td id=\"T_d4950_row6_col1\" class=\"data row6 col1\" >980</td>\n",
       "      <td id=\"T_d4950_row6_col2\" class=\"data row6 col2\" >58962.000000</td>\n",
       "      <td id=\"T_d4950_row6_col3\" class=\"data row6 col3\" >70.360382</td>\n",
       "    </tr>\n",
       "    <tr>\n",
       "      <th id=\"T_d4950_level0_row7\" class=\"row_heading level0 row7\" >Telangana</th>\n",
       "      <td id=\"T_d4950_row7_col0\" class=\"data row7 col0\" >73050.000000</td>\n",
       "      <td id=\"T_d4950_row7_col1\" class=\"data row7 col1\" >589</td>\n",
       "      <td id=\"T_d4950_row7_col2\" class=\"data row7 col2\" >52103.000000</td>\n",
       "      <td id=\"T_d4950_row7_col3\" class=\"data row7 col3\" >71.325120</td>\n",
       "    </tr>\n",
       "    <tr>\n",
       "      <th id=\"T_d4950_level0_row8\" class=\"row_heading level0 row8\" >Gujarat</th>\n",
       "      <td id=\"T_d4950_row8_col0\" class=\"data row8 col0\" >66669.000000</td>\n",
       "      <td id=\"T_d4950_row8_col1\" class=\"data row8 col1\" >980</td>\n",
       "      <td id=\"T_d4950_row8_col2\" class=\"data row8 col2\" >49433.000000</td>\n",
       "      <td id=\"T_d4950_row8_col3\" class=\"data row8 col3\" >74.146905</td>\n",
       "    </tr>\n",
       "    <tr>\n",
       "      <th id=\"T_d4950_level0_row9\" class=\"row_heading level0 row9\" >Bihar</th>\n",
       "      <td id=\"T_d4950_row9_col0\" class=\"data row9 col0\" >64770.000000</td>\n",
       "      <td id=\"T_d4950_row9_col1\" class=\"data row9 col1\" >97</td>\n",
       "      <td id=\"T_d4950_row9_col2\" class=\"data row9 col2\" >42414.000000</td>\n",
       "      <td id=\"T_d4950_row9_col3\" class=\"data row9 col3\" >65.484020</td>\n",
       "    </tr>\n",
       "    <tr>\n",
       "      <th id=\"T_d4950_level0_row10\" class=\"row_heading level0 row10\" >Telangana***</th>\n",
       "      <td id=\"T_d4950_row10_col0\" class=\"data row10 col0\" >52466.000000</td>\n",
       "      <td id=\"T_d4950_row10_col1\" class=\"data row10 col1\" >455</td>\n",
       "      <td id=\"T_d4950_row10_col2\" class=\"data row10 col2\" >40334.000000</td>\n",
       "      <td id=\"T_d4950_row10_col3\" class=\"data row10 col3\" >76.876453</td>\n",
       "    </tr>\n",
       "    <tr>\n",
       "      <th id=\"T_d4950_level0_row11\" class=\"row_heading level0 row11\" >Assam</th>\n",
       "      <td id=\"T_d4950_row11_col0\" class=\"data row11 col0\" >50445.000000</td>\n",
       "      <td id=\"T_d4950_row11_col1\" class=\"data row11 col1\" >98</td>\n",
       "      <td id=\"T_d4950_row11_col2\" class=\"data row11 col2\" >35892.000000</td>\n",
       "      <td id=\"T_d4950_row11_col3\" class=\"data row11 col3\" >71.150758</td>\n",
       "    </tr>\n",
       "    <tr>\n",
       "      <th id=\"T_d4950_level0_row12\" class=\"row_heading level0 row12\" >Rajasthan</th>\n",
       "      <td id=\"T_d4950_row12_col0\" class=\"data row12 col0\" >47272.000000</td>\n",
       "      <td id=\"T_d4950_row12_col1\" class=\"data row12 col1\" >97</td>\n",
       "      <td id=\"T_d4950_row12_col2\" class=\"data row12 col2\" >33849.000000</td>\n",
       "      <td id=\"T_d4950_row12_col3\" class=\"data row12 col3\" >71.604755</td>\n",
       "    </tr>\n",
       "    <tr>\n",
       "      <th id=\"T_d4950_level0_row13\" class=\"row_heading level0 row13\" >Odisha</th>\n",
       "      <td id=\"T_d4950_row13_col0\" class=\"data row13 col0\" >39018.000000</td>\n",
       "      <td id=\"T_d4950_row13_col1\" class=\"data row13 col1\" >97</td>\n",
       "      <td id=\"T_d4950_row13_col2\" class=\"data row13 col2\" >25738.000000</td>\n",
       "      <td id=\"T_d4950_row13_col3\" class=\"data row13 col3\" >65.964427</td>\n",
       "    </tr>\n",
       "    <tr>\n",
       "      <th id=\"T_d4950_level0_row14\" class=\"row_heading level0 row14\" >Haryana</th>\n",
       "      <td id=\"T_d4950_row14_col0\" class=\"data row14 col0\" >38548.000000</td>\n",
       "      <td id=\"T_d4950_row14_col1\" class=\"data row14 col1\" >9</td>\n",
       "      <td id=\"T_d4950_row14_col2\" class=\"data row14 col2\" >31960.000000</td>\n",
       "      <td id=\"T_d4950_row14_col3\" class=\"data row14 col3\" >82.909619</td>\n",
       "    </tr>\n",
       "    <tr>\n",
       "      <th id=\"T_d4950_level0_row15\" class=\"row_heading level0 row15\" >Madhya Pradesh</th>\n",
       "      <td id=\"T_d4950_row15_col0\" class=\"data row15 col0\" >35734.000000</td>\n",
       "      <td id=\"T_d4950_row15_col1\" class=\"data row15 col1\" >99</td>\n",
       "      <td id=\"T_d4950_row15_col2\" class=\"data row15 col2\" >26064.000000</td>\n",
       "      <td id=\"T_d4950_row15_col3\" class=\"data row15 col3\" >72.938938</td>\n",
       "    </tr>\n",
       "    <tr>\n",
       "      <th id=\"T_d4950_level0_row16\" class=\"row_heading level0 row16\" >Kerala</th>\n",
       "      <td id=\"T_d4950_row16_col0\" class=\"data row16 col0\" >29151.000000</td>\n",
       "      <td id=\"T_d4950_row16_col1\" class=\"data row16 col1\" >94</td>\n",
       "      <td id=\"T_d4950_row16_col2\" class=\"data row16 col2\" >17533.000000</td>\n",
       "      <td id=\"T_d4950_row16_col3\" class=\"data row16 col3\" >60.145450</td>\n",
       "    </tr>\n",
       "    <tr>\n",
       "      <th id=\"T_d4950_level0_row17\" class=\"row_heading level0 row17\" >Jammu and Kashmir</th>\n",
       "      <td id=\"T_d4950_row17_col0\" class=\"data row17 col0\" >22955.000000</td>\n",
       "      <td id=\"T_d4950_row17_col1\" class=\"data row17 col1\" >95</td>\n",
       "      <td id=\"T_d4950_row17_col2\" class=\"data row17 col2\" >15244.000000</td>\n",
       "      <td id=\"T_d4950_row17_col3\" class=\"data row17 col3\" >66.408190</td>\n",
       "    </tr>\n",
       "    <tr>\n",
       "      <th id=\"T_d4950_level0_row18\" class=\"row_heading level0 row18\" >Punjab</th>\n",
       "      <td id=\"T_d4950_row18_col0\" class=\"data row18 col0\" >19856.000000</td>\n",
       "      <td id=\"T_d4950_row18_col1\" class=\"data row18 col1\" >99</td>\n",
       "      <td id=\"T_d4950_row18_col2\" class=\"data row18 col2\" >12943.000000</td>\n",
       "      <td id=\"T_d4950_row18_col3\" class=\"data row18 col3\" >65.184327</td>\n",
       "    </tr>\n",
       "    <tr>\n",
       "      <th id=\"T_d4950_level0_row19\" class=\"row_heading level0 row19\" >Jharkhand</th>\n",
       "      <td id=\"T_d4950_row19_col0\" class=\"data row19 col0\" >14888.000000</td>\n",
       "      <td id=\"T_d4950_row19_col1\" class=\"data row19 col1\" >98</td>\n",
       "      <td id=\"T_d4950_row19_col2\" class=\"data row19 col2\" >5703.000000</td>\n",
       "      <td id=\"T_d4950_row19_col3\" class=\"data row19 col3\" >38.306018</td>\n",
       "    </tr>\n",
       "    <tr>\n",
       "      <th id=\"T_d4950_level0_row20\" class=\"row_heading level0 row20\" >Chhattisgarh</th>\n",
       "      <td id=\"T_d4950_row20_col0\" class=\"data row20 col0\" >10407.000000</td>\n",
       "      <td id=\"T_d4950_row20_col1\" class=\"data row20 col1\" >9</td>\n",
       "      <td id=\"T_d4950_row20_col2\" class=\"data row20 col2\" >7871.000000</td>\n",
       "      <td id=\"T_d4950_row20_col3\" class=\"data row20 col3\" >75.631786</td>\n",
       "    </tr>\n",
       "    <tr>\n",
       "      <th id=\"T_d4950_level0_row21\" class=\"row_heading level0 row21\" >Uttarakhand</th>\n",
       "      <td id=\"T_d4950_row21_col0\" class=\"data row21 col0\" >8254.000000</td>\n",
       "      <td id=\"T_d4950_row21_col1\" class=\"data row21 col1\" >98</td>\n",
       "      <td id=\"T_d4950_row21_col2\" class=\"data row21 col2\" >5233.000000</td>\n",
       "      <td id=\"T_d4950_row21_col3\" class=\"data row21 col3\" >63.399564</td>\n",
       "    </tr>\n",
       "    <tr>\n",
       "      <th id=\"T_d4950_level0_row22\" class=\"row_heading level0 row22\" >Goa</th>\n",
       "      <td id=\"T_d4950_row22_col0\" class=\"data row22 col0\" >7423.000000</td>\n",
       "      <td id=\"T_d4950_row22_col1\" class=\"data row22 col1\" >9</td>\n",
       "      <td id=\"T_d4950_row22_col2\" class=\"data row22 col2\" >5287.000000</td>\n",
       "      <td id=\"T_d4950_row22_col3\" class=\"data row22 col3\" >71.224572</td>\n",
       "    </tr>\n",
       "    <tr>\n",
       "      <th id=\"T_d4950_level0_row23\" class=\"row_heading level0 row23\" >Tripura</th>\n",
       "      <td id=\"T_d4950_row23_col0\" class=\"data row23 col0\" >5725.000000</td>\n",
       "      <td id=\"T_d4950_row23_col1\" class=\"data row23 col1\" >9</td>\n",
       "      <td id=\"T_d4950_row23_col2\" class=\"data row23 col2\" >3793.000000</td>\n",
       "      <td id=\"T_d4950_row23_col3\" class=\"data row23 col3\" >66.253275</td>\n",
       "    </tr>\n",
       "    <tr>\n",
       "      <th id=\"T_d4950_level0_row24\" class=\"row_heading level0 row24\" >Puducherry</th>\n",
       "      <td id=\"T_d4950_row24_col0\" class=\"data row24 col0\" >4433.000000</td>\n",
       "      <td id=\"T_d4950_row24_col1\" class=\"data row24 col1\" >9</td>\n",
       "      <td id=\"T_d4950_row24_col2\" class=\"data row24 col2\" >2668.000000</td>\n",
       "      <td id=\"T_d4950_row24_col3\" class=\"data row24 col3\" >60.184976</td>\n",
       "    </tr>\n",
       "    <tr>\n",
       "      <th id=\"T_d4950_level0_row25\" class=\"row_heading level0 row25\" >Telengana</th>\n",
       "      <td id=\"T_d4950_row25_col0\" class=\"data row25 col0\" >4111.000000</td>\n",
       "      <td id=\"T_d4950_row25_col1\" class=\"data row25 col1\" >99</td>\n",
       "      <td id=\"T_d4950_row25_col2\" class=\"data row25 col2\" >1817.000000</td>\n",
       "      <td id=\"T_d4950_row25_col3\" class=\"data row25 col3\" >44.198492</td>\n",
       "    </tr>\n",
       "    <tr>\n",
       "      <th id=\"T_d4950_level0_row26\" class=\"row_heading level0 row26\" >Manipur</th>\n",
       "      <td id=\"T_d4950_row26_col0\" class=\"data row26 col0\" >3093.000000</td>\n",
       "      <td id=\"T_d4950_row26_col1\" class=\"data row26 col1\" >7</td>\n",
       "      <td id=\"T_d4950_row26_col2\" class=\"data row26 col2\" >1862.000000</td>\n",
       "      <td id=\"T_d4950_row26_col3\" class=\"data row26 col3\" >60.200453</td>\n",
       "    </tr>\n",
       "    <tr>\n",
       "      <th id=\"T_d4950_level0_row27\" class=\"row_heading level0 row27\" >Himachal Pradesh</th>\n",
       "      <td id=\"T_d4950_row27_col0\" class=\"data row27 col0\" >2916.000000</td>\n",
       "      <td id=\"T_d4950_row27_col1\" class=\"data row27 col1\" >9</td>\n",
       "      <td id=\"T_d4950_row27_col2\" class=\"data row27 col2\" >1762.000000</td>\n",
       "      <td id=\"T_d4950_row27_col3\" class=\"data row27 col3\" >60.425240</td>\n",
       "    </tr>\n",
       "    <tr>\n",
       "      <th id=\"T_d4950_level0_row28\" class=\"row_heading level0 row28\" >Nagaland</th>\n",
       "      <td id=\"T_d4950_row28_col0\" class=\"data row28 col0\" >2498.000000</td>\n",
       "      <td id=\"T_d4950_row28_col1\" class=\"data row28 col1\" >6</td>\n",
       "      <td id=\"T_d4950_row28_col2\" class=\"data row28 col2\" >685.000000</td>\n",
       "      <td id=\"T_d4950_row28_col3\" class=\"data row28 col3\" >27.421938</td>\n",
       "    </tr>\n",
       "    <tr>\n",
       "      <th id=\"T_d4950_level0_row29\" class=\"row_heading level0 row29\" >Arunachal Pradesh</th>\n",
       "      <td id=\"T_d4950_row29_col0\" class=\"data row29 col0\" >1855.000000</td>\n",
       "      <td id=\"T_d4950_row29_col1\" class=\"data row29 col1\" >3</td>\n",
       "      <td id=\"T_d4950_row29_col2\" class=\"data row29 col2\" >1210.000000</td>\n",
       "      <td id=\"T_d4950_row29_col3\" class=\"data row29 col3\" >65.229111</td>\n",
       "    </tr>\n",
       "    <tr>\n",
       "      <th id=\"T_d4950_level0_row30\" class=\"row_heading level0 row30\" >Ladakh</th>\n",
       "      <td id=\"T_d4950_row30_col0\" class=\"data row30 col0\" >1592.000000</td>\n",
       "      <td id=\"T_d4950_row30_col1\" class=\"data row30 col1\" >7</td>\n",
       "      <td id=\"T_d4950_row30_col2\" class=\"data row30 col2\" >1164.000000</td>\n",
       "      <td id=\"T_d4950_row30_col3\" class=\"data row30 col3\" >73.115578</td>\n",
       "    </tr>\n",
       "    <tr>\n",
       "      <th id=\"T_d4950_level0_row31\" class=\"row_heading level0 row31\" >Dadra and Nagar Haveli and Daman and Diu</th>\n",
       "      <td id=\"T_d4950_row31_col0\" class=\"data row31 col0\" >1366.000000</td>\n",
       "      <td id=\"T_d4950_row31_col1\" class=\"data row31 col1\" >2</td>\n",
       "      <td id=\"T_d4950_row31_col2\" class=\"data row31 col2\" >960.000000</td>\n",
       "      <td id=\"T_d4950_row31_col3\" class=\"data row31 col3\" >70.278184</td>\n",
       "    </tr>\n",
       "    <tr>\n",
       "      <th id=\"T_d4950_level0_row32\" class=\"row_heading level0 row32\" >Chandigarh</th>\n",
       "      <td id=\"T_d4950_row32_col0\" class=\"data row32 col0\" >1270.000000</td>\n",
       "      <td id=\"T_d4950_row32_col1\" class=\"data row32 col1\" >8</td>\n",
       "      <td id=\"T_d4950_row32_col2\" class=\"data row32 col2\" >715.000000</td>\n",
       "      <td id=\"T_d4950_row32_col3\" class=\"data row32 col3\" >56.299213</td>\n",
       "    </tr>\n",
       "    <tr>\n",
       "      <th id=\"T_d4950_level0_row33\" class=\"row_heading level0 row33\" >Andaman and Nicobar Islands</th>\n",
       "      <td id=\"T_d4950_row33_col0\" class=\"data row33 col0\" >1027.000000</td>\n",
       "      <td id=\"T_d4950_row33_col1\" class=\"data row33 col1\" >8</td>\n",
       "      <td id=\"T_d4950_row33_col2\" class=\"data row33 col2\" >326.000000</td>\n",
       "      <td id=\"T_d4950_row33_col3\" class=\"data row33 col3\" >31.742941</td>\n",
       "    </tr>\n",
       "    <tr>\n",
       "      <th id=\"T_d4950_level0_row34\" class=\"row_heading level0 row34\" >Meghalaya</th>\n",
       "      <td id=\"T_d4950_row34_col0\" class=\"data row34 col0\" >929.000000</td>\n",
       "      <td id=\"T_d4950_row34_col1\" class=\"data row34 col1\" >5</td>\n",
       "      <td id=\"T_d4950_row34_col2\" class=\"data row34 col2\" >330.000000</td>\n",
       "      <td id=\"T_d4950_row34_col3\" class=\"data row34 col3\" >35.522067</td>\n",
       "    </tr>\n",
       "    <tr>\n",
       "      <th id=\"T_d4950_level0_row35\" class=\"row_heading level0 row35\" >Sikkim</th>\n",
       "      <td id=\"T_d4950_row35_col0\" class=\"data row35 col0\" >800.000000</td>\n",
       "      <td id=\"T_d4950_row35_col1\" class=\"data row35 col1\" >1</td>\n",
       "      <td id=\"T_d4950_row35_col2\" class=\"data row35 col2\" >303.000000</td>\n",
       "      <td id=\"T_d4950_row35_col3\" class=\"data row35 col3\" >37.875000</td>\n",
       "    </tr>\n",
       "    <tr>\n",
       "      <th id=\"T_d4950_level0_row36\" class=\"row_heading level0 row36\" >Mizoram</th>\n",
       "      <td id=\"T_d4950_row36_col0\" class=\"data row36 col0\" >537.000000</td>\n",
       "      <td id=\"T_d4950_row36_col1\" class=\"data row36 col1\" >0</td>\n",
       "      <td id=\"T_d4950_row36_col2\" class=\"data row36 col2\" >286.000000</td>\n",
       "      <td id=\"T_d4950_row36_col3\" class=\"data row36 col3\" >53.258845</td>\n",
       "    </tr>\n",
       "    <tr>\n",
       "      <th id=\"T_d4950_level0_row37\" class=\"row_heading level0 row37\" >Union Territory of Ladakh</th>\n",
       "      <td id=\"T_d4950_row37_col0\" class=\"data row37 col0\" >10.000000</td>\n",
       "      <td id=\"T_d4950_row37_col1\" class=\"data row37 col1\" >0</td>\n",
       "      <td id=\"T_d4950_row37_col2\" class=\"data row37 col2\" >0.000000</td>\n",
       "      <td id=\"T_d4950_row37_col3\" class=\"data row37 col3\" >0.000000</td>\n",
       "    </tr>\n",
       "    <tr>\n",
       "      <th id=\"T_d4950_level0_row38\" class=\"row_heading level0 row38\" >Union Territory of Jammu and Kashmir</th>\n",
       "      <td id=\"T_d4950_row38_col0\" class=\"data row38 col0\" >4.000000</td>\n",
       "      <td id=\"T_d4950_row38_col1\" class=\"data row38 col1\" >0</td>\n",
       "      <td id=\"T_d4950_row38_col2\" class=\"data row38 col2\" >0.000000</td>\n",
       "      <td id=\"T_d4950_row38_col3\" class=\"data row38 col3\" >0.000000</td>\n",
       "    </tr>\n",
       "    <tr>\n",
       "      <th id=\"T_d4950_level0_row39\" class=\"row_heading level0 row39\" >Union Territory of Chandigarh</th>\n",
       "      <td id=\"T_d4950_row39_col0\" class=\"data row39 col0\" >1.000000</td>\n",
       "      <td id=\"T_d4950_row39_col1\" class=\"data row39 col1\" >0</td>\n",
       "      <td id=\"T_d4950_row39_col2\" class=\"data row39 col2\" >0.000000</td>\n",
       "      <td id=\"T_d4950_row39_col3\" class=\"data row39 col3\" >0.000000</td>\n",
       "    </tr>\n",
       "  </tbody>\n",
       "</table>\n"
      ],
      "text/plain": [
       "<pandas.io.formats.style.Styler at 0x20bc1035310>"
      ]
     },
     "execution_count": 113,
     "metadata": {},
     "output_type": "execute_result"
    }
   ],
   "source": [
    "statewise.style.background_gradient(cmap='cubehelix')"
   ]
  },
  {
   "cell_type": "code",
   "execution_count": 114,
   "id": "867b052d",
   "metadata": {},
   "outputs": [],
   "source": [
    "# Top 10 Active cases state\n",
    "top_10_active_state = covid_df.groupby(by='Name of State / UT').max()[['Active_cases','Date']].sort_values(by=['Active_cases'],ascending=False).reset_index()"
   ]
  },
  {
   "cell_type": "code",
   "execution_count": 115,
   "id": "10ca1445",
   "metadata": {},
   "outputs": [
    {
     "data": {
      "image/png": "[encoded data removed]",
      "text/plain": [
       "<Figure size 1600x900 with 1 Axes>"
      ]
     },
     "metadata": {},
     "output_type": "display_data"
    }
   ],
   "source": [
    "fig = plt.figure(figsize=(16,9))\n",
    "ax= sns.barplot(data=top_10_active_state.iloc[:10],y = 'Active_cases',x = \"Name of State / UT\",linewidth = 2,edgecolor = 'red')\n",
    "plt.title(\"Top 10 States with most active cases in India\", size = 25)\n",
    "plt.xlabel(\"States\",size = 25)\n",
    "plt.ylabel(\"Total active cases\",size = 25)\n",
    "plt.show()"
   ]
  },
  {
   "cell_type": "code",
   "execution_count": 116,
   "id": "3607afed",
   "metadata": {},
   "outputs": [],
   "source": [
    "# Top 10 state with higest Recovery_rate\n",
    "Top_10_Recovery_state = statewise.groupby(by='Name of State / UT').max()[['Recovery Rate']].sort_values(by=['Recovery Rate'],ascending=False).reset_index()"
   ]
  },
  {
   "cell_type": "code",
   "execution_count": 117,
   "id": "a2127b67",
   "metadata": {},
   "outputs": [
    {
     "data": {
      "image/png": "[encoded data removed]",
      "text/plain": [
       "<Figure size 1500x600 with 1 Axes>"
      ]
     },
     "metadata": {},
     "output_type": "display_data"
    }
   ],
   "source": [
    "fig = plt.figure(figsize=(15,6))\n",
    "plt.title(\"Top 10  states with most Recovery Rate\",size = 20)\n",
    "ax = sns.barplot(data=Top_10_Recovery_state.iloc[:10],y = 'Recovery Rate',x ='Name of State / UT',edgecolor = 'black',linewidth = 2 )\n",
    "plt.xlabel(\"States\",size = 15)\n",
    "plt.ylabel(\"Recovery Rate\",size = 15)\n",
    "plt.show()"
   ]
  },
  {
   "cell_type": "code",
   "execution_count": 118,
   "id": "367c3f7e",
   "metadata": {},
   "outputs": [
    {
     "data": {
      "text/plain": [
       "Text(0.5, 1.0, 'Top 5 Affected state in india')"
      ]
     },
     "execution_count": 118,
     "metadata": {},
     "output_type": "execute_result"
    },
    {
     "data": {
      "image/png": "[encoded data removed]",
      "text/plain": [
       "<Figure size 1200x600 with 1 Axes>"
      ]
     },
     "metadata": {},
     "output_type": "display_data"
    }
   ],
   "source": [
    "# Growth trends\n",
    "fig = plt.figure(figsize=(12,6))\n",
    "ax = sns.lineplot(data=covid_df[covid_df['Name of State / UT'].isin(['Maharashtra','Andhra Pradesh','Karnataka','Tamil Nadu','Uttar Pradesh'])],x='Date',y='Active_cases',hue='Name of State / UT')\n",
    "plt.title(\"Top 5 Affected state in india\")"
   ]
  },
  {
   "cell_type": "code",
   "execution_count": 119,
   "id": "3c92f803",
   "metadata": {},
   "outputs": [
    {
     "data": {
      "text/html": [
       "<div>\n",
       "<style scoped>\n",
       "    .dataframe tbody tr th:only-of-type {\n",
       "        vertical-align: middle;\n",
       "    }\n",
       "\n",
       "    .dataframe tbody tr th {\n",
       "        vertical-align: top;\n",
       "    }\n",
       "\n",
       "    .dataframe thead th {\n",
       "        text-align: right;\n",
       "    }\n",
       "</style>\n",
       "<table border=\"1\" class=\"dataframe\">\n",
       "  <thead>\n",
       "    <tr style=\"text-align: right;\">\n",
       "      <th></th>\n",
       "      <th>Updated On</th>\n",
       "      <th>State</th>\n",
       "      <th>Total Doses Administered</th>\n",
       "      <th>Sessions</th>\n",
       "      <th>Sites</th>\n",
       "      <th>First Dose Administered</th>\n",
       "      <th>Second Dose Administered</th>\n",
       "      <th>Male (Doses Administered)</th>\n",
       "      <th>Female (Doses Administered)</th>\n",
       "      <th>Transgender (Doses Administered)</th>\n",
       "      <th>...</th>\n",
       "      <th>AEFI</th>\n",
       "      <th>18-44 Years (Doses Administered)</th>\n",
       "      <th>45-60 Years (Doses Administered)</th>\n",
       "      <th>60+ Years (Doses Administered)</th>\n",
       "      <th>18-44 Years (Individuals Vaccinated)</th>\n",
       "      <th>45-60 Years (Individuals Vaccinated)</th>\n",
       "      <th>60+ Years (Individuals Vaccinated)</th>\n",
       "      <th>Male (Individuals Vaccinated)</th>\n",
       "      <th>Female (Individuals Vaccinated)</th>\n",
       "      <th>Transgender (Individuals Vaccinated)</th>\n",
       "    </tr>\n",
       "  </thead>\n",
       "  <tbody>\n",
       "    <tr>\n",
       "      <th>0</th>\n",
       "      <td>16/01/2021</td>\n",
       "      <td>India</td>\n",
       "      <td>48276.0</td>\n",
       "      <td>3455.0</td>\n",
       "      <td>2957.0</td>\n",
       "      <td>48276.0</td>\n",
       "      <td>0.0</td>\n",
       "      <td>NaN</td>\n",
       "      <td>NaN</td>\n",
       "      <td>NaN</td>\n",
       "      <td>...</td>\n",
       "      <td>NaN</td>\n",
       "      <td>NaN</td>\n",
       "      <td>NaN</td>\n",
       "      <td>NaN</td>\n",
       "      <td>NaN</td>\n",
       "      <td>NaN</td>\n",
       "      <td>NaN</td>\n",
       "      <td>23757.0</td>\n",
       "      <td>24517.0</td>\n",
       "      <td>2.0</td>\n",
       "    </tr>\n",
       "    <tr>\n",
       "      <th>1</th>\n",
       "      <td>17/01/2021</td>\n",
       "      <td>India</td>\n",
       "      <td>58604.0</td>\n",
       "      <td>8532.0</td>\n",
       "      <td>4954.0</td>\n",
       "      <td>58604.0</td>\n",
       "      <td>0.0</td>\n",
       "      <td>NaN</td>\n",
       "      <td>NaN</td>\n",
       "      <td>NaN</td>\n",
       "      <td>...</td>\n",
       "      <td>NaN</td>\n",
       "      <td>NaN</td>\n",
       "      <td>NaN</td>\n",
       "      <td>NaN</td>\n",
       "      <td>NaN</td>\n",
       "      <td>NaN</td>\n",
       "      <td>NaN</td>\n",
       "      <td>27348.0</td>\n",
       "      <td>31252.0</td>\n",
       "      <td>4.0</td>\n",
       "    </tr>\n",
       "    <tr>\n",
       "      <th>2</th>\n",
       "      <td>18/01/2021</td>\n",
       "      <td>India</td>\n",
       "      <td>99449.0</td>\n",
       "      <td>13611.0</td>\n",
       "      <td>6583.0</td>\n",
       "      <td>99449.0</td>\n",
       "      <td>0.0</td>\n",
       "      <td>NaN</td>\n",
       "      <td>NaN</td>\n",
       "      <td>NaN</td>\n",
       "      <td>...</td>\n",
       "      <td>NaN</td>\n",
       "      <td>NaN</td>\n",
       "      <td>NaN</td>\n",
       "      <td>NaN</td>\n",
       "      <td>NaN</td>\n",
       "      <td>NaN</td>\n",
       "      <td>NaN</td>\n",
       "      <td>41361.0</td>\n",
       "      <td>58083.0</td>\n",
       "      <td>5.0</td>\n",
       "    </tr>\n",
       "    <tr>\n",
       "      <th>3</th>\n",
       "      <td>19/01/2021</td>\n",
       "      <td>India</td>\n",
       "      <td>195525.0</td>\n",
       "      <td>17855.0</td>\n",
       "      <td>7951.0</td>\n",
       "      <td>195525.0</td>\n",
       "      <td>0.0</td>\n",
       "      <td>NaN</td>\n",
       "      <td>NaN</td>\n",
       "      <td>NaN</td>\n",
       "      <td>...</td>\n",
       "      <td>NaN</td>\n",
       "      <td>NaN</td>\n",
       "      <td>NaN</td>\n",
       "      <td>NaN</td>\n",
       "      <td>NaN</td>\n",
       "      <td>NaN</td>\n",
       "      <td>NaN</td>\n",
       "      <td>81901.0</td>\n",
       "      <td>113613.0</td>\n",
       "      <td>11.0</td>\n",
       "    </tr>\n",
       "    <tr>\n",
       "      <th>4</th>\n",
       "      <td>20/01/2021</td>\n",
       "      <td>India</td>\n",
       "      <td>251280.0</td>\n",
       "      <td>25472.0</td>\n",
       "      <td>10504.0</td>\n",
       "      <td>251280.0</td>\n",
       "      <td>0.0</td>\n",
       "      <td>NaN</td>\n",
       "      <td>NaN</td>\n",
       "      <td>NaN</td>\n",
       "      <td>...</td>\n",
       "      <td>NaN</td>\n",
       "      <td>NaN</td>\n",
       "      <td>NaN</td>\n",
       "      <td>NaN</td>\n",
       "      <td>NaN</td>\n",
       "      <td>NaN</td>\n",
       "      <td>NaN</td>\n",
       "      <td>98111.0</td>\n",
       "      <td>153145.0</td>\n",
       "      <td>24.0</td>\n",
       "    </tr>\n",
       "  </tbody>\n",
       "</table>\n",
       "<p>5 rows × 23 columns</p>\n",
       "</div>"
      ],
      "text/plain": [
       "   Updated On  State  Total Doses Administered  Sessions    Sites  \\\n",
       "0  16/01/2021  India                   48276.0    3455.0   2957.0   \n",
       "1  17/01/2021  India                   58604.0    8532.0   4954.0   \n",
       "2  18/01/2021  India                   99449.0   13611.0   6583.0   \n",
       "3  19/01/2021  India                  195525.0   17855.0   7951.0   \n",
       "4  20/01/2021  India                  251280.0   25472.0  10504.0   \n",
       "\n",
       "   First Dose Administered  Second Dose Administered  \\\n",
       "0                  48276.0                       0.0   \n",
       "1                  58604.0                       0.0   \n",
       "2                  99449.0                       0.0   \n",
       "3                 195525.0                       0.0   \n",
       "4                 251280.0                       0.0   \n",
       "\n",
       "   Male (Doses Administered)  Female (Doses Administered)  \\\n",
       "0                        NaN                          NaN   \n",
       "1                        NaN                          NaN   \n",
       "2                        NaN                          NaN   \n",
       "3                        NaN                          NaN   \n",
       "4                        NaN                          NaN   \n",
       "\n",
       "   Transgender (Doses Administered)  ...  AEFI  \\\n",
       "0                               NaN  ...   NaN   \n",
       "1                               NaN  ...   NaN   \n",
       "2                               NaN  ...   NaN   \n",
       "3                               NaN  ...   NaN   \n",
       "4                               NaN  ...   NaN   \n",
       "\n",
       "   18-44 Years (Doses Administered)  45-60 Years (Doses Administered)  \\\n",
       "0                               NaN                               NaN   \n",
       "1                               NaN                               NaN   \n",
       "2                               NaN                               NaN   \n",
       "3                               NaN                               NaN   \n",
       "4                               NaN                               NaN   \n",
       "\n",
       "   60+ Years (Doses Administered)  18-44 Years (Individuals Vaccinated)  \\\n",
       "0                             NaN                                   NaN   \n",
       "1                             NaN                                   NaN   \n",
       "2                             NaN                                   NaN   \n",
       "3                             NaN                                   NaN   \n",
       "4                             NaN                                   NaN   \n",
       "\n",
       "   45-60 Years (Individuals Vaccinated)  60+ Years (Individuals Vaccinated)  \\\n",
       "0                                   NaN                                 NaN   \n",
       "1                                   NaN                                 NaN   \n",
       "2                                   NaN                                 NaN   \n",
       "3                                   NaN                                 NaN   \n",
       "4                                   NaN                                 NaN   \n",
       "\n",
       "   Male (Individuals Vaccinated)  Female (Individuals Vaccinated)  \\\n",
       "0                        23757.0                          24517.0   \n",
       "1                        27348.0                          31252.0   \n",
       "2                        41361.0                          58083.0   \n",
       "3                        81901.0                         113613.0   \n",
       "4                        98111.0                         153145.0   \n",
       "\n",
       "   Transgender (Individuals Vaccinated)  \n",
       "0                                   2.0  \n",
       "1                                   4.0  \n",
       "2                                   5.0  \n",
       "3                                  11.0  \n",
       "4                                  24.0  \n",
       "\n",
       "[5 rows x 23 columns]"
      ]
     },
     "execution_count": 119,
     "metadata": {},
     "output_type": "execute_result"
    }
   ],
   "source": [
    "vaccine_df.head()"
   ]
  },
  {
   "cell_type": "code",
   "execution_count": 120,
   "id": "5c4213f8",
   "metadata": {},
   "outputs": [],
   "source": [
    "vaccine_df.rename(columns={\"Updated On\":'vaccine_date'},inplace=True)"
   ]
  },
  {
   "cell_type": "code",
   "execution_count": 121,
   "id": "cfc1d05e",
   "metadata": {},
   "outputs": [
    {
     "name": "stdout",
     "output_type": "stream",
     "text": [
      "<class 'pandas.core.frame.DataFrame'>\n",
      "RangeIndex: 10693 entries, 0 to 10692\n",
      "Data columns (total 23 columns):\n",
      " #   Column                                Non-Null Count  Dtype  \n",
      "---  ------                                --------------  -----  \n",
      " 0   vaccine_date                          10693 non-null  object \n",
      " 1   State                                 10693 non-null  object \n",
      " 2   Total Doses Administered              9509 non-null   float64\n",
      " 3   Sessions                              9509 non-null   float64\n",
      " 4   Sites                                 9509 non-null   float64\n",
      " 5   First Dose Administered               9509 non-null   float64\n",
      " 6   Second Dose Administered              9509 non-null   float64\n",
      " 7   Male (Doses Administered)             3589 non-null   float64\n",
      " 8   Female (Doses Administered)           3589 non-null   float64\n",
      " 9   Transgender (Doses Administered)      3589 non-null   float64\n",
      " 10  Covaxin (Doses Administered)          9509 non-null   float64\n",
      " 11  CoviShield (Doses Administered)       9509 non-null   float64\n",
      " 12  Sputnik V (Doses Administered)        4883 non-null   float64\n",
      " 13  AEFI                                  7326 non-null   float64\n",
      " 14  18-44 Years (Doses Administered)      3589 non-null   float64\n",
      " 15  45-60 Years (Doses Administered)      3589 non-null   float64\n",
      " 16  60+ Years (Doses Administered)        3589 non-null   float64\n",
      " 17  18-44 Years (Individuals Vaccinated)  3734 non-null   float64\n",
      " 18  45-60 Years (Individuals Vaccinated)  3735 non-null   float64\n",
      " 19  60+ Years (Individuals Vaccinated)    3735 non-null   float64\n",
      " 20  Male (Individuals Vaccinated)         5920 non-null   float64\n",
      " 21  Female (Individuals Vaccinated)       5920 non-null   float64\n",
      " 22  Transgender (Individuals Vaccinated)  5920 non-null   float64\n",
      "dtypes: float64(21), object(2)\n",
      "memory usage: 1.9+ MB\n"
     ]
    }
   ],
   "source": [
    "vaccine_df.info()"
   ]
  },
  {
   "cell_type": "code",
   "execution_count": 122,
   "id": "edfb6ddb",
   "metadata": {},
   "outputs": [
    {
     "data": {
      "text/plain": [
       "vaccine_date                               0\n",
       "State                                      0\n",
       "Total Doses Administered                1184\n",
       "Sessions                                1184\n",
       "Sites                                   1184\n",
       "First Dose Administered                 1184\n",
       "Second Dose Administered                1184\n",
       "Male (Doses Administered)               7104\n",
       "Female (Doses Administered)             7104\n",
       "Transgender (Doses Administered)        7104\n",
       "Covaxin (Doses Administered)            1184\n",
       "CoviShield (Doses Administered)         1184\n",
       "Sputnik V (Doses Administered)          5810\n",
       "AEFI                                    3367\n",
       "18-44 Years (Doses Administered)        7104\n",
       "45-60 Years (Doses Administered)        7104\n",
       "60+ Years (Doses Administered)          7104\n",
       "18-44 Years (Individuals Vaccinated)    6959\n",
       "45-60 Years (Individuals Vaccinated)    6958\n",
       "60+ Years (Individuals Vaccinated)      6958\n",
       "Male (Individuals Vaccinated)           4773\n",
       "Female (Individuals Vaccinated)         4773\n",
       "Transgender (Individuals Vaccinated)    4773\n",
       "dtype: int64"
      ]
     },
     "execution_count": 122,
     "metadata": {},
     "output_type": "execute_result"
    }
   ],
   "source": [
    "vaccine_df.isnull().sum()"
   ]
  },
  {
   "cell_type": "code",
   "execution_count": 123,
   "id": "593f9b8c",
   "metadata": {},
   "outputs": [],
   "source": [
    "vaccine_df.drop(columns=['Sputnik V (Doses Administered)','AEFI','18-44 Years (Doses Administered)','45-60 Years (Doses Administered)','60+ Years (Doses Administered)'],axis=1,inplace=True)\n"
   ]
  },
  {
   "cell_type": "code",
   "execution_count": 124,
   "id": "30a94a37",
   "metadata": {},
   "outputs": [
    {
     "data": {
      "text/html": [
       "<div>\n",
       "<style scoped>\n",
       "    .dataframe tbody tr th:only-of-type {\n",
       "        vertical-align: middle;\n",
       "    }\n",
       "\n",
       "    .dataframe tbody tr th {\n",
       "        vertical-align: top;\n",
       "    }\n",
       "\n",
       "    .dataframe thead th {\n",
       "        text-align: right;\n",
       "    }\n",
       "</style>\n",
       "<table border=\"1\" class=\"dataframe\">\n",
       "  <thead>\n",
       "    <tr style=\"text-align: right;\">\n",
       "      <th></th>\n",
       "      <th>vaccine_date</th>\n",
       "      <th>State</th>\n",
       "      <th>Total Doses Administered</th>\n",
       "      <th>Sessions</th>\n",
       "      <th>Sites</th>\n",
       "      <th>First Dose Administered</th>\n",
       "      <th>Second Dose Administered</th>\n",
       "      <th>Male (Doses Administered)</th>\n",
       "      <th>Female (Doses Administered)</th>\n",
       "      <th>Transgender (Doses Administered)</th>\n",
       "      <th>Covaxin (Doses Administered)</th>\n",
       "      <th>CoviShield (Doses Administered)</th>\n",
       "      <th>18-44 Years (Individuals Vaccinated)</th>\n",
       "      <th>45-60 Years (Individuals Vaccinated)</th>\n",
       "      <th>60+ Years (Individuals Vaccinated)</th>\n",
       "      <th>Male (Individuals Vaccinated)</th>\n",
       "      <th>Female (Individuals Vaccinated)</th>\n",
       "      <th>Transgender (Individuals Vaccinated)</th>\n",
       "    </tr>\n",
       "  </thead>\n",
       "  <tbody>\n",
       "    <tr>\n",
       "      <th>0</th>\n",
       "      <td>16/01/2021</td>\n",
       "      <td>India</td>\n",
       "      <td>48276.0</td>\n",
       "      <td>3455.0</td>\n",
       "      <td>2957.0</td>\n",
       "      <td>48276.0</td>\n",
       "      <td>0.0</td>\n",
       "      <td>NaN</td>\n",
       "      <td>NaN</td>\n",
       "      <td>NaN</td>\n",
       "      <td>579.0</td>\n",
       "      <td>47697.0</td>\n",
       "      <td>NaN</td>\n",
       "      <td>NaN</td>\n",
       "      <td>NaN</td>\n",
       "      <td>23757.0</td>\n",
       "      <td>24517.0</td>\n",
       "      <td>2.0</td>\n",
       "    </tr>\n",
       "    <tr>\n",
       "      <th>1</th>\n",
       "      <td>17/01/2021</td>\n",
       "      <td>India</td>\n",
       "      <td>58604.0</td>\n",
       "      <td>8532.0</td>\n",
       "      <td>4954.0</td>\n",
       "      <td>58604.0</td>\n",
       "      <td>0.0</td>\n",
       "      <td>NaN</td>\n",
       "      <td>NaN</td>\n",
       "      <td>NaN</td>\n",
       "      <td>635.0</td>\n",
       "      <td>57969.0</td>\n",
       "      <td>NaN</td>\n",
       "      <td>NaN</td>\n",
       "      <td>NaN</td>\n",
       "      <td>27348.0</td>\n",
       "      <td>31252.0</td>\n",
       "      <td>4.0</td>\n",
       "    </tr>\n",
       "    <tr>\n",
       "      <th>2</th>\n",
       "      <td>18/01/2021</td>\n",
       "      <td>India</td>\n",
       "      <td>99449.0</td>\n",
       "      <td>13611.0</td>\n",
       "      <td>6583.0</td>\n",
       "      <td>99449.0</td>\n",
       "      <td>0.0</td>\n",
       "      <td>NaN</td>\n",
       "      <td>NaN</td>\n",
       "      <td>NaN</td>\n",
       "      <td>1299.0</td>\n",
       "      <td>98150.0</td>\n",
       "      <td>NaN</td>\n",
       "      <td>NaN</td>\n",
       "      <td>NaN</td>\n",
       "      <td>41361.0</td>\n",
       "      <td>58083.0</td>\n",
       "      <td>5.0</td>\n",
       "    </tr>\n",
       "    <tr>\n",
       "      <th>3</th>\n",
       "      <td>19/01/2021</td>\n",
       "      <td>India</td>\n",
       "      <td>195525.0</td>\n",
       "      <td>17855.0</td>\n",
       "      <td>7951.0</td>\n",
       "      <td>195525.0</td>\n",
       "      <td>0.0</td>\n",
       "      <td>NaN</td>\n",
       "      <td>NaN</td>\n",
       "      <td>NaN</td>\n",
       "      <td>3017.0</td>\n",
       "      <td>192508.0</td>\n",
       "      <td>NaN</td>\n",
       "      <td>NaN</td>\n",
       "      <td>NaN</td>\n",
       "      <td>81901.0</td>\n",
       "      <td>113613.0</td>\n",
       "      <td>11.0</td>\n",
       "    </tr>\n",
       "    <tr>\n",
       "      <th>4</th>\n",
       "      <td>20/01/2021</td>\n",
       "      <td>India</td>\n",
       "      <td>251280.0</td>\n",
       "      <td>25472.0</td>\n",
       "      <td>10504.0</td>\n",
       "      <td>251280.0</td>\n",
       "      <td>0.0</td>\n",
       "      <td>NaN</td>\n",
       "      <td>NaN</td>\n",
       "      <td>NaN</td>\n",
       "      <td>3946.0</td>\n",
       "      <td>247334.0</td>\n",
       "      <td>NaN</td>\n",
       "      <td>NaN</td>\n",
       "      <td>NaN</td>\n",
       "      <td>98111.0</td>\n",
       "      <td>153145.0</td>\n",
       "      <td>24.0</td>\n",
       "    </tr>\n",
       "  </tbody>\n",
       "</table>\n",
       "</div>"
      ],
      "text/plain": [
       "  vaccine_date  State  Total Doses Administered  Sessions    Sites  \\\n",
       "0   16/01/2021  India                   48276.0    3455.0   2957.0   \n",
       "1   17/01/2021  India                   58604.0    8532.0   4954.0   \n",
       "2   18/01/2021  India                   99449.0   13611.0   6583.0   \n",
       "3   19/01/2021  India                  195525.0   17855.0   7951.0   \n",
       "4   20/01/2021  India                  251280.0   25472.0  10504.0   \n",
       "\n",
       "   First Dose Administered  Second Dose Administered  \\\n",
       "0                  48276.0                       0.0   \n",
       "1                  58604.0                       0.0   \n",
       "2                  99449.0                       0.0   \n",
       "3                 195525.0                       0.0   \n",
       "4                 251280.0                       0.0   \n",
       "\n",
       "   Male (Doses Administered)  Female (Doses Administered)  \\\n",
       "0                        NaN                          NaN   \n",
       "1                        NaN                          NaN   \n",
       "2                        NaN                          NaN   \n",
       "3                        NaN                          NaN   \n",
       "4                        NaN                          NaN   \n",
       "\n",
       "   Transgender (Doses Administered)  Covaxin (Doses Administered)  \\\n",
       "0                               NaN                         579.0   \n",
       "1                               NaN                         635.0   \n",
       "2                               NaN                        1299.0   \n",
       "3                               NaN                        3017.0   \n",
       "4                               NaN                        3946.0   \n",
       "\n",
       "   CoviShield (Doses Administered)  18-44 Years (Individuals Vaccinated)  \\\n",
       "0                          47697.0                                   NaN   \n",
       "1                          57969.0                                   NaN   \n",
       "2                          98150.0                                   NaN   \n",
       "3                         192508.0                                   NaN   \n",
       "4                         247334.0                                   NaN   \n",
       "\n",
       "   45-60 Years (Individuals Vaccinated)  60+ Years (Individuals Vaccinated)  \\\n",
       "0                                   NaN                                 NaN   \n",
       "1                                   NaN                                 NaN   \n",
       "2                                   NaN                                 NaN   \n",
       "3                                   NaN                                 NaN   \n",
       "4                                   NaN                                 NaN   \n",
       "\n",
       "   Male (Individuals Vaccinated)  Female (Individuals Vaccinated)  \\\n",
       "0                        23757.0                          24517.0   \n",
       "1                        27348.0                          31252.0   \n",
       "2                        41361.0                          58083.0   \n",
       "3                        81901.0                         113613.0   \n",
       "4                        98111.0                         153145.0   \n",
       "\n",
       "   Transgender (Individuals Vaccinated)  \n",
       "0                                   2.0  \n",
       "1                                   4.0  \n",
       "2                                   5.0  \n",
       "3                                  11.0  \n",
       "4                                  24.0  "
      ]
     },
     "execution_count": 124,
     "metadata": {},
     "output_type": "execute_result"
    }
   ],
   "source": [
    "vaccine_df.head()"
   ]
  },
  {
   "cell_type": "code",
   "execution_count": 125,
   "id": "121d1e13",
   "metadata": {},
   "outputs": [
    {
     "data": {
      "application/vnd.plotly.v1+json": {
       "config": {
        "plotlyServerURL": "https://plot.ly"
       },
       "data": [
        {
         "domain": {
          "x": [
           0,
           1
          ],
          "y": [
           0,
           1
          ]
         },
         "hovertemplate": "label=%{label}<br>value=%{value}<extra></extra>",
         "labels": [
          "Male",
          "Female"
         ],
         "legendgroup": "",
         "name": "",
         "showlegend": true,
         "type": "pie",
         "values": [
          14274449001,
          12640549574
         ]
        }
       ],
       "layout": {
        "legend": {
         "tracegroupgap": 0
        },
        "template": {
         "data": {
          "bar": [
           {
            "error_x": {
             "color": "#2a3f5f"
            },
            "error_y": {
             "color": "#2a3f5f"
            },
            "marker": {
             "line": {
              "color": "#E5ECF6",
              "width": 0.5
             },
             "pattern": {
              "fillmode": "overlay",
              "size": 10,
              "solidity": 0.2
             }
            },
            "type": "bar"
           }
          ],
          "barpolar": [
           {
            "marker": {
             "line": {
              "color": "#E5ECF6",
              "width": 0.5
             },
             "pattern": {
              "fillmode": "overlay",
              "size": 10,
              "solidity": 0.2
             }
            },
            "type": "barpolar"
           }
          ],
          "carpet": [
           {
            "aaxis": {
             "endlinecolor": "#2a3f5f",
             "gridcolor": "white",
             "linecolor": "white",
             "minorgridcolor": "white",
             "startlinecolor": "#2a3f5f"
            },
            "baxis": {
             "endlinecolor": "#2a3f5f",
             "gridcolor": "white",
             "linecolor": "white",
             "minorgridcolor": "white",
             "startlinecolor": "#2a3f5f"
            },
            "type": "carpet"
           }
          ],
          "choropleth": [
           {
            "colorbar": {
             "outlinewidth": 0,
             "ticks": ""
            },
            "type": "choropleth"
           }
          ],
          "contour": [
           {
            "colorbar": {
             "outlinewidth": 0,
             "ticks": ""
            },
            "colorscale": [
             [
              0,
              "#0d0887"
             ],
             [
              0.1111111111111111,
              "#46039f"
             ],
             [
              0.2222222222222222,
              "#7201a8"
             ],
             [
              0.3333333333333333,
              "#9c179e"
             ],
             [
              0.4444444444444444,
              "#bd3786"
             ],
             [
              0.5555555555555556,
              "#d8576b"
             ],
             [
              0.6666666666666666,
              "#ed7953"
             ],
             [
              0.7777777777777778,
              "#fb9f3a"
             ],
             [
              0.8888888888888888,
              "#fdca26"
             ],
             [
              1,
              "#f0f921"
             ]
            ],
            "type": "contour"
           }
          ],
          "contourcarpet": [
           {
            "colorbar": {
             "outlinewidth": 0,
             "ticks": ""
            },
            "type": "contourcarpet"
           }
          ],
          "heatmap": [
           {
            "colorbar": {
             "outlinewidth": 0,
             "ticks": ""
            },
            "colorscale": [
             [
              0,
              "#0d0887"
             ],
             [
              0.1111111111111111,
              "#46039f"
             ],
             [
              0.2222222222222222,
              "#7201a8"
             ],
             [
              0.3333333333333333,
              "#9c179e"
             ],
             [
              0.4444444444444444,
              "#bd3786"
             ],
             [
              0.5555555555555556,
              "#d8576b"
             ],
             [
              0.6666666666666666,
              "#ed7953"
             ],
             [
              0.7777777777777778,
              "#fb9f3a"
             ],
             [
              0.8888888888888888,
              "#fdca26"
             ],
             [
              1,
              "#f0f921"
             ]
            ],
            "type": "heatmap"
           }
          ],
          "heatmapgl": [
           {
            "colorbar": {
             "outlinewidth": 0,
             "ticks": ""
            },
            "colorscale": [
             [
              0,
              "#0d0887"
             ],
             [
              0.1111111111111111,
              "#46039f"
             ],
             [
              0.2222222222222222,
              "#7201a8"
             ],
             [
              0.3333333333333333,
              "#9c179e"
             ],
             [
              0.4444444444444444,
              "#bd3786"
             ],
             [
              0.5555555555555556,
              "#d8576b"
             ],
             [
              0.6666666666666666,
              "#ed7953"
             ],
             [
              0.7777777777777778,
              "#fb9f3a"
             ],
             [
              0.8888888888888888,
              "#fdca26"
             ],
             [
              1,
              "#f0f921"
             ]
            ],
            "type": "heatmapgl"
           }
          ],
          "histogram": [
           {
            "marker": {
             "pattern": {
              "fillmode": "overlay",
              "size": 10,
              "solidity": 0.2
             }
            },
            "type": "histogram"
           }
          ],
          "histogram2d": [
           {
            "colorbar": {
             "outlinewidth": 0,
             "ticks": ""
            },
            "colorscale": [
             [
              0,
              "#0d0887"
             ],
             [
              0.1111111111111111,
              "#46039f"
             ],
             [
              0.2222222222222222,
              "#7201a8"
             ],
             [
              0.3333333333333333,
              "#9c179e"
             ],
             [
              0.4444444444444444,
              "#bd3786"
             ],
             [
              0.5555555555555556,
              "#d8576b"
             ],
             [
              0.6666666666666666,
              "#ed7953"
             ],
             [
              0.7777777777777778,
              "#fb9f3a"
             ],
             [
              0.8888888888888888,
              "#fdca26"
             ],
             [
              1,
              "#f0f921"
             ]
            ],
            "type": "histogram2d"
           }
          ],
          "histogram2dcontour": [
           {
            "colorbar": {
             "outlinewidth": 0,
             "ticks": ""
            },
            "colorscale": [
             [
              0,
              "#0d0887"
             ],
             [
              0.1111111111111111,
              "#46039f"
             ],
             [
              0.2222222222222222,
              "#7201a8"
             ],
             [
              0.3333333333333333,
              "#9c179e"
             ],
             [
              0.4444444444444444,
              "#bd3786"
             ],
             [
              0.5555555555555556,
              "#d8576b"
             ],
             [
              0.6666666666666666,
              "#ed7953"
             ],
             [
              0.7777777777777778,
              "#fb9f3a"
             ],
             [
              0.8888888888888888,
              "#fdca26"
             ],
             [
              1,
              "#f0f921"
             ]
            ],
            "type": "histogram2dcontour"
           }
          ],
          "mesh3d": [
           {
            "colorbar": {
             "outlinewidth": 0,
             "ticks": ""
            },
            "type": "mesh3d"
           }
          ],
          "parcoords": [
           {
            "line": {
             "colorbar": {
              "outlinewidth": 0,
              "ticks": ""
             }
            },
            "type": "parcoords"
           }
          ],
          "pie": [
           {
            "automargin": true,
            "type": "pie"
           }
          ],
          "scatter": [
           {
            "fillpattern": {
             "fillmode": "overlay",
             "size": 10,
             "solidity": 0.2
            },
            "type": "scatter"
           }
          ],
          "scatter3d": [
           {
            "line": {
             "colorbar": {
              "outlinewidth": 0,
              "ticks": ""
             }
            },
            "marker": {
             "colorbar": {
              "outlinewidth": 0,
              "ticks": ""
             }
            },
            "type": "scatter3d"
           }
          ],
          "scattercarpet": [
           {
            "marker": {
             "colorbar": {
              "outlinewidth": 0,
              "ticks": ""
             }
            },
            "type": "scattercarpet"
           }
          ],
          "scattergeo": [
           {
            "marker": {
             "colorbar": {
              "outlinewidth": 0,
              "ticks": ""
             }
            },
            "type": "scattergeo"
           }
          ],
          "scattergl": [
           {
            "marker": {
             "colorbar": {
              "outlinewidth": 0,
              "ticks": ""
             }
            },
            "type": "scattergl"
           }
          ],
          "scattermapbox": [
           {
            "marker": {
             "colorbar": {
              "outlinewidth": 0,
              "ticks": ""
             }
            },
            "type": "scattermapbox"
           }
          ],
          "scatterpolar": [
           {
            "marker": {
             "colorbar": {
              "outlinewidth": 0,
              "ticks": ""
             }
            },
            "type": "scatterpolar"
           }
          ],
          "scatterpolargl": [
           {
            "marker": {
             "colorbar": {
              "outlinewidth": 0,
              "ticks": ""
             }
            },
            "type": "scatterpolargl"
           }
          ],
          "scatterternary": [
           {
            "marker": {
             "colorbar": {
              "outlinewidth": 0,
              "ticks": ""
             }
            },
            "type": "scatterternary"
           }
          ],
          "surface": [
           {
            "colorbar": {
             "outlinewidth": 0,
             "ticks": ""
            },
            "colorscale": [
             [
              0,
              "#0d0887"
             ],
             [
              0.1111111111111111,
              "#46039f"
             ],
             [
              0.2222222222222222,
              "#7201a8"
             ],
             [
              0.3333333333333333,
              "#9c179e"
             ],
             [
              0.4444444444444444,
              "#bd3786"
             ],
             [
              0.5555555555555556,
              "#d8576b"
             ],
             [
              0.6666666666666666,
              "#ed7953"
             ],
             [
              0.7777777777777778,
              "#fb9f3a"
             ],
             [
              0.8888888888888888,
              "#fdca26"
             ],
             [
              1,
              "#f0f921"
             ]
            ],
            "type": "surface"
           }
          ],
          "table": [
           {
            "cells": {
             "fill": {
              "color": "#EBF0F8"
             },
             "line": {
              "color": "white"
             }
            },
            "header": {
             "fill": {
              "color": "#C8D4E3"
             },
             "line": {
              "color": "white"
             }
            },
            "type": "table"
           }
          ]
         },
         "layout": {
          "annotationdefaults": {
           "arrowcolor": "#2a3f5f",
           "arrowhead": 0,
           "arrowwidth": 1
          },
          "autotypenumbers": "strict",
          "coloraxis": {
           "colorbar": {
            "outlinewidth": 0,
            "ticks": ""
           }
          },
          "colorscale": {
           "diverging": [
            [
             0,
             "#8e0152"
            ],
            [
             0.1,
             "#c51b7d"
            ],
            [
             0.2,
             "#de77ae"
            ],
            [
             0.3,
             "#f1b6da"
            ],
            [
             0.4,
             "#fde0ef"
            ],
            [
             0.5,
             "#f7f7f7"
            ],
            [
             0.6,
             "#e6f5d0"
            ],
            [
             0.7,
             "#b8e186"
            ],
            [
             0.8,
             "#7fbc41"
            ],
            [
             0.9,
             "#4d9221"
            ],
            [
             1,
             "#276419"
            ]
           ],
           "sequential": [
            [
             0,
             "#0d0887"
            ],
            [
             0.1111111111111111,
             "#46039f"
            ],
            [
             0.2222222222222222,
             "#7201a8"
            ],
            [
             0.3333333333333333,
             "#9c179e"
            ],
            [
             0.4444444444444444,
             "#bd3786"
            ],
            [
             0.5555555555555556,
             "#d8576b"
            ],
            [
             0.6666666666666666,
             "#ed7953"
            ],
            [
             0.7777777777777778,
             "#fb9f3a"
            ],
            [
             0.8888888888888888,
             "#fdca26"
            ],
            [
             1,
             "#f0f921"
            ]
           ],
           "sequentialminus": [
            [
             0,
             "#0d0887"
            ],
            [
             0.1111111111111111,
             "#46039f"
            ],
            [
             0.2222222222222222,
             "#7201a8"
            ],
            [
             0.3333333333333333,
             "#9c179e"
            ],
            [
             0.4444444444444444,
             "#bd3786"
            ],
            [
             0.5555555555555556,
             "#d8576b"
            ],
            [
             0.6666666666666666,
             "#ed7953"
            ],
            [
             0.7777777777777778,
             "#fb9f3a"
            ],
            [
             0.8888888888888888,
             "#fdca26"
            ],
            [
             1,
             "#f0f921"
            ]
           ]
          },
          "colorway": [
           "#636efa",
           "#EF553B",
           "#00cc96",
           "#ab63fa",
           "#FFA15A",
           "#19d3f3",
           "#FF6692",
           "#B6E880",
           "#FF97FF",
           "#FECB52"
          ],
          "font": {
           "color": "#2a3f5f"
          },
          "geo": {
           "bgcolor": "white",
           "lakecolor": "white",
           "landcolor": "#E5ECF6",
           "showlakes": true,
           "showland": true,
           "subunitcolor": "white"
          },
          "hoverlabel": {
           "align": "left"
          },
          "hovermode": "closest",
          "mapbox": {
           "style": "light"
          },
          "paper_bgcolor": "white",
          "plot_bgcolor": "#E5ECF6",
          "polar": {
           "angularaxis": {
            "gridcolor": "white",
            "linecolor": "white",
            "ticks": ""
           },
           "bgcolor": "#E5ECF6",
           "radialaxis": {
            "gridcolor": "white",
            "linecolor": "white",
            "ticks": ""
           }
          },
          "scene": {
           "xaxis": {
            "backgroundcolor": "#E5ECF6",
            "gridcolor": "white",
            "gridwidth": 2,
            "linecolor": "white",
            "showbackground": true,
            "ticks": "",
            "zerolinecolor": "white"
           },
           "yaxis": {
            "backgroundcolor": "#E5ECF6",
            "gridcolor": "white",
            "gridwidth": 2,
            "linecolor": "white",
            "showbackground": true,
            "ticks": "",
            "zerolinecolor": "white"
           },
           "zaxis": {
            "backgroundcolor": "#E5ECF6",
            "gridcolor": "white",
            "gridwidth": 2,
            "linecolor": "white",
            "showbackground": true,
            "ticks": "",
            "zerolinecolor": "white"
           }
          },
          "shapedefaults": {
           "line": {
            "color": "#2a3f5f"
           }
          },
          "ternary": {
           "aaxis": {
            "gridcolor": "white",
            "linecolor": "white",
            "ticks": ""
           },
           "baxis": {
            "gridcolor": "white",
            "linecolor": "white",
            "ticks": ""
           },
           "bgcolor": "#E5ECF6",
           "caxis": {
            "gridcolor": "white",
            "linecolor": "white",
            "ticks": ""
           }
          },
          "title": {
           "x": 0.05
          },
          "xaxis": {
           "automargin": true,
           "gridcolor": "white",
           "linecolor": "white",
           "ticks": "",
           "title": {
            "standoff": 15
           },
           "zerolinecolor": "white",
           "zerolinewidth": 2
          },
          "yaxis": {
           "automargin": true,
           "gridcolor": "white",
           "linecolor": "white",
           "ticks": "",
           "title": {
            "standoff": 15
           },
           "zerolinecolor": "white",
           "zerolinewidth": 2
          }
         }
        },
        "title": {
         "text": "Male and Female vaccination"
        }
       }
      },
      "text/html": [
       "<div>                            <div id=\"fb76f569-9cde-4ccf-aad8-be1713c7239e\" class=\"plotly-graph-div\" style=\"height:525px; width:100%;\"></div>            <script type=\"text/javascript\">                require([\"plotly\"], function(Plotly) {                    window.PLOTLYENV=window.PLOTLYENV || {};                                    if (document.getElementById(\"fb76f569-9cde-4ccf-aad8-be1713c7239e\")) {                    Plotly.newPlot(                        \"fb76f569-9cde-4ccf-aad8-be1713c7239e\",                        [{\"domain\":{\"x\":[0.0,1.0],\"y\":[0.0,1.0]},\"hovertemplate\":\"label=%{label}<br>value=%{value}<extra></extra>\",\"labels\":[\"Male\",\"Female\"],\"legendgroup\":\"\",\"name\":\"\",\"showlegend\":true,\"values\":[14274449001.0,12640549574.0],\"type\":\"pie\"}],                        {\"template\":{\"data\":{\"histogram2dcontour\":[{\"type\":\"histogram2dcontour\",\"colorbar\":{\"outlinewidth\":0,\"ticks\":\"\"},\"colorscale\":[[0.0,\"#0d0887\"],[0.1111111111111111,\"#46039f\"],[0.2222222222222222,\"#7201a8\"],[0.3333333333333333,\"#9c179e\"],[0.4444444444444444,\"#bd3786\"],[0.5555555555555556,\"#d8576b\"],[0.6666666666666666,\"#ed7953\"],[0.7777777777777778,\"#fb9f3a\"],[0.8888888888888888,\"#fdca26\"],[1.0,\"#f0f921\"]]}],\"choropleth\":[{\"type\":\"choropleth\",\"colorbar\":{\"outlinewidth\":0,\"ticks\":\"\"}}],\"histogram2d\":[{\"type\":\"histogram2d\",\"colorbar\":{\"outlinewidth\":0,\"ticks\":\"\"},\"colorscale\":[[0.0,\"#0d0887\"],[0.1111111111111111,\"#46039f\"],[0.2222222222222222,\"#7201a8\"],[0.3333333333333333,\"#9c179e\"],[0.4444444444444444,\"#bd3786\"],[0.5555555555555556,\"#d8576b\"],[0.6666666666666666,\"#ed7953\"],[0.7777777777777778,\"#fb9f3a\"],[0.8888888888888888,\"#fdca26\"],[1.0,\"#f0f921\"]]}],\"heatmap\":[{\"type\":\"heatmap\",\"colorbar\":{\"outlinewidth\":0,\"ticks\":\"\"},\"colorscale\":[[0.0,\"#0d0887\"],[0.1111111111111111,\"#46039f\"],[0.2222222222222222,\"#7201a8\"],[0.3333333333333333,\"#9c179e\"],[0.4444444444444444,\"#bd3786\"],[0.5555555555555556,\"#d8576b\"],[0.6666666666666666,\"#ed7953\"],[0.7777777777777778,\"#fb9f3a\"],[0.8888888888888888,\"#fdca26\"],[1.0,\"#f0f921\"]]}],\"heatmapgl\":[{\"type\":\"heatmapgl\",\"colorbar\":{\"outlinewidth\":0,\"ticks\":\"\"},\"colorscale\":[[0.0,\"#0d0887\"],[0.1111111111111111,\"#46039f\"],[0.2222222222222222,\"#7201a8\"],[0.3333333333333333,\"#9c179e\"],[0.4444444444444444,\"#bd3786\"],[0.5555555555555556,\"#d8576b\"],[0.6666666666666666,\"#ed7953\"],[0.7777777777777778,\"#fb9f3a\"],[0.8888888888888888,\"#fdca26\"],[1.0,\"#f0f921\"]]}],\"contourcarpet\":[{\"type\":\"contourcarpet\",\"colorbar\":{\"outlinewidth\":0,\"ticks\":\"\"}}],\"contour\":[{\"type\":\"contour\",\"colorbar\":{\"outlinewidth\":0,\"ticks\":\"\"},\"colorscale\":[[0.0,\"#0d0887\"],[0.1111111111111111,\"#46039f\"],[0.2222222222222222,\"#7201a8\"],[0.3333333333333333,\"#9c179e\"],[0.4444444444444444,\"#bd3786\"],[0.5555555555555556,\"#d8576b\"],[0.6666666666666666,\"#ed7953\"],[0.7777777777777778,\"#fb9f3a\"],[0.8888888888888888,\"#fdca26\"],[1.0,\"#f0f921\"]]}],\"surface\":[{\"type\":\"surface\",\"colorbar\":{\"outlinewidth\":0,\"ticks\":\"\"},\"colorscale\":[[0.0,\"#0d0887\"],[0.1111111111111111,\"#46039f\"],[0.2222222222222222,\"#7201a8\"],[0.3333333333333333,\"#9c179e\"],[0.4444444444444444,\"#bd3786\"],[0.5555555555555556,\"#d8576b\"],[0.6666666666666666,\"#ed7953\"],[0.7777777777777778,\"#fb9f3a\"],[0.8888888888888888,\"#fdca26\"],[1.0,\"#f0f921\"]]}],\"mesh3d\":[{\"type\":\"mesh3d\",\"colorbar\":{\"outlinewidth\":0,\"ticks\":\"\"}}],\"scatter\":[{\"fillpattern\":{\"fillmode\":\"overlay\",\"size\":10,\"solidity\":0.2},\"type\":\"scatter\"}],\"parcoords\":[{\"type\":\"parcoords\",\"line\":{\"colorbar\":{\"outlinewidth\":0,\"ticks\":\"\"}}}],\"scatterpolargl\":[{\"type\":\"scatterpolargl\",\"marker\":{\"colorbar\":{\"outlinewidth\":0,\"ticks\":\"\"}}}],\"bar\":[{\"error_x\":{\"color\":\"#2a3f5f\"},\"error_y\":{\"color\":\"#2a3f5f\"},\"marker\":{\"line\":{\"color\":\"#E5ECF6\",\"width\":0.5},\"pattern\":{\"fillmode\":\"overlay\",\"size\":10,\"solidity\":0.2}},\"type\":\"bar\"}],\"scattergeo\":[{\"type\":\"scattergeo\",\"marker\":{\"colorbar\":{\"outlinewidth\":0,\"ticks\":\"\"}}}],\"scatterpolar\":[{\"type\":\"scatterpolar\",\"marker\":{\"colorbar\":{\"outlinewidth\":0,\"ticks\":\"\"}}}],\"histogram\":[{\"marker\":{\"pattern\":{\"fillmode\":\"overlay\",\"size\":10,\"solidity\":0.2}},\"type\":\"histogram\"}],\"scattergl\":[{\"type\":\"scattergl\",\"marker\":{\"colorbar\":{\"outlinewidth\":0,\"ticks\":\"\"}}}],\"scatter3d\":[{\"type\":\"scatter3d\",\"line\":{\"colorbar\":{\"outlinewidth\":0,\"ticks\":\"\"}},\"marker\":{\"colorbar\":{\"outlinewidth\":0,\"ticks\":\"\"}}}],\"scattermapbox\":[{\"type\":\"scattermapbox\",\"marker\":{\"colorbar\":{\"outlinewidth\":0,\"ticks\":\"\"}}}],\"scatterternary\":[{\"type\":\"scatterternary\",\"marker\":{\"colorbar\":{\"outlinewidth\":0,\"ticks\":\"\"}}}],\"scattercarpet\":[{\"type\":\"scattercarpet\",\"marker\":{\"colorbar\":{\"outlinewidth\":0,\"ticks\":\"\"}}}],\"carpet\":[{\"aaxis\":{\"endlinecolor\":\"#2a3f5f\",\"gridcolor\":\"white\",\"linecolor\":\"white\",\"minorgridcolor\":\"white\",\"startlinecolor\":\"#2a3f5f\"},\"baxis\":{\"endlinecolor\":\"#2a3f5f\",\"gridcolor\":\"white\",\"linecolor\":\"white\",\"minorgridcolor\":\"white\",\"startlinecolor\":\"#2a3f5f\"},\"type\":\"carpet\"}],\"table\":[{\"cells\":{\"fill\":{\"color\":\"#EBF0F8\"},\"line\":{\"color\":\"white\"}},\"header\":{\"fill\":{\"color\":\"#C8D4E3\"},\"line\":{\"color\":\"white\"}},\"type\":\"table\"}],\"barpolar\":[{\"marker\":{\"line\":{\"color\":\"#E5ECF6\",\"width\":0.5},\"pattern\":{\"fillmode\":\"overlay\",\"size\":10,\"solidity\":0.2}},\"type\":\"barpolar\"}],\"pie\":[{\"automargin\":true,\"type\":\"pie\"}]},\"layout\":{\"autotypenumbers\":\"strict\",\"colorway\":[\"#636efa\",\"#EF553B\",\"#00cc96\",\"#ab63fa\",\"#FFA15A\",\"#19d3f3\",\"#FF6692\",\"#B6E880\",\"#FF97FF\",\"#FECB52\"],\"font\":{\"color\":\"#2a3f5f\"},\"hovermode\":\"closest\",\"hoverlabel\":{\"align\":\"left\"},\"paper_bgcolor\":\"white\",\"plot_bgcolor\":\"#E5ECF6\",\"polar\":{\"bgcolor\":\"#E5ECF6\",\"angularaxis\":{\"gridcolor\":\"white\",\"linecolor\":\"white\",\"ticks\":\"\"},\"radialaxis\":{\"gridcolor\":\"white\",\"linecolor\":\"white\",\"ticks\":\"\"}},\"ternary\":{\"bgcolor\":\"#E5ECF6\",\"aaxis\":{\"gridcolor\":\"white\",\"linecolor\":\"white\",\"ticks\":\"\"},\"baxis\":{\"gridcolor\":\"white\",\"linecolor\":\"white\",\"ticks\":\"\"},\"caxis\":{\"gridcolor\":\"white\",\"linecolor\":\"white\",\"ticks\":\"\"}},\"coloraxis\":{\"colorbar\":{\"outlinewidth\":0,\"ticks\":\"\"}},\"colorscale\":{\"sequential\":[[0.0,\"#0d0887\"],[0.1111111111111111,\"#46039f\"],[0.2222222222222222,\"#7201a8\"],[0.3333333333333333,\"#9c179e\"],[0.4444444444444444,\"#bd3786\"],[0.5555555555555556,\"#d8576b\"],[0.6666666666666666,\"#ed7953\"],[0.7777777777777778,\"#fb9f3a\"],[0.8888888888888888,\"#fdca26\"],[1.0,\"#f0f921\"]],\"sequentialminus\":[[0.0,\"#0d0887\"],[0.1111111111111111,\"#46039f\"],[0.2222222222222222,\"#7201a8\"],[0.3333333333333333,\"#9c179e\"],[0.4444444444444444,\"#bd3786\"],[0.5555555555555556,\"#d8576b\"],[0.6666666666666666,\"#ed7953\"],[0.7777777777777778,\"#fb9f3a\"],[0.8888888888888888,\"#fdca26\"],[1.0,\"#f0f921\"]],\"diverging\":[[0,\"#8e0152\"],[0.1,\"#c51b7d\"],[0.2,\"#de77ae\"],[0.3,\"#f1b6da\"],[0.4,\"#fde0ef\"],[0.5,\"#f7f7f7\"],[0.6,\"#e6f5d0\"],[0.7,\"#b8e186\"],[0.8,\"#7fbc41\"],[0.9,\"#4d9221\"],[1,\"#276419\"]]},\"xaxis\":{\"gridcolor\":\"white\",\"linecolor\":\"white\",\"ticks\":\"\",\"title\":{\"standoff\":15},\"zerolinecolor\":\"white\",\"automargin\":true,\"zerolinewidth\":2},\"yaxis\":{\"gridcolor\":\"white\",\"linecolor\":\"white\",\"ticks\":\"\",\"title\":{\"standoff\":15},\"zerolinecolor\":\"white\",\"automargin\":true,\"zerolinewidth\":2},\"scene\":{\"xaxis\":{\"backgroundcolor\":\"#E5ECF6\",\"gridcolor\":\"white\",\"linecolor\":\"white\",\"showbackground\":true,\"ticks\":\"\",\"zerolinecolor\":\"white\",\"gridwidth\":2},\"yaxis\":{\"backgroundcolor\":\"#E5ECF6\",\"gridcolor\":\"white\",\"linecolor\":\"white\",\"showbackground\":true,\"ticks\":\"\",\"zerolinecolor\":\"white\",\"gridwidth\":2},\"zaxis\":{\"backgroundcolor\":\"#E5ECF6\",\"gridcolor\":\"white\",\"linecolor\":\"white\",\"showbackground\":true,\"ticks\":\"\",\"zerolinecolor\":\"white\",\"gridwidth\":2}},\"shapedefaults\":{\"line\":{\"color\":\"#2a3f5f\"}},\"annotationdefaults\":{\"arrowcolor\":\"#2a3f5f\",\"arrowhead\":0,\"arrowwidth\":1},\"geo\":{\"bgcolor\":\"white\",\"landcolor\":\"#E5ECF6\",\"subunitcolor\":\"white\",\"showland\":true,\"showlakes\":true,\"lakecolor\":\"white\"},\"title\":{\"x\":0.05},\"mapbox\":{\"style\":\"light\"}}},\"legend\":{\"tracegroupgap\":0},\"title\":{\"text\":\"Male and Female vaccination\"}},                        {\"responsive\": true}                    ).then(function(){\n",
       "                            \n",
       "var gd = document.getElementById('fb76f569-9cde-4ccf-aad8-be1713c7239e');\n",
       "var x = new MutationObserver(function (mutations, observer) {{\n",
       "        var display = window.getComputedStyle(gd).display;\n",
       "        if (!display || display === 'none') {{\n",
       "            console.log([gd, 'removed!']);\n",
       "            Plotly.purge(gd);\n",
       "            observer.disconnect();\n",
       "        }}\n",
       "}});\n",
       "\n",
       "// Listen for the removal of the full notebook cells\n",
       "var notebookContainer = gd.closest('#notebook-container');\n",
       "if (notebookContainer) {{\n",
       "    x.observe(notebookContainer, {childList: true});\n",
       "}}\n",
       "\n",
       "// Listen for the clearing of the current output cell\n",
       "var outputEl = gd.closest('.output');\n",
       "if (outputEl) {{\n",
       "    x.observe(outputEl, {childList: true});\n",
       "}}\n",
       "\n",
       "                        })                };                });            </script>        </div>"
      ]
     },
     "metadata": {},
     "output_type": "display_data"
    }
   ],
   "source": [
    "# Male VS Frmale vacciantion\n",
    "\n",
    "male = vaccine_df['Male (Individuals Vaccinated)'].sum()\n",
    "female = vaccine_df['Female (Individuals Vaccinated)'].sum()\n",
    "\n",
    "px.pie(names = ['Male','Female'],values=[male,female],title=\"Male and Female vaccination\")"
   ]
  },
  {
   "cell_type": "code",
   "execution_count": 132,
   "id": "9df6ec02",
   "metadata": {},
   "outputs": [
    {
     "data": {
      "text/html": [
       "<div>\n",
       "<style scoped>\n",
       "    .dataframe tbody tr th:only-of-type {\n",
       "        vertical-align: middle;\n",
       "    }\n",
       "\n",
       "    .dataframe tbody tr th {\n",
       "        vertical-align: top;\n",
       "    }\n",
       "\n",
       "    .dataframe thead th {\n",
       "        text-align: right;\n",
       "    }\n",
       "</style>\n",
       "<table border=\"1\" class=\"dataframe\">\n",
       "  <thead>\n",
       "    <tr style=\"text-align: right;\">\n",
       "      <th></th>\n",
       "      <th>vaccine_date</th>\n",
       "      <th>State</th>\n",
       "      <th>Total</th>\n",
       "      <th>Sessions</th>\n",
       "      <th>Sites</th>\n",
       "      <th>First Dose Administered</th>\n",
       "      <th>Second Dose Administered</th>\n",
       "      <th>Male (Doses Administered)</th>\n",
       "      <th>Female (Doses Administered)</th>\n",
       "      <th>Transgender (Doses Administered)</th>\n",
       "      <th>Covaxin (Doses Administered)</th>\n",
       "      <th>CoviShield (Doses Administered)</th>\n",
       "      <th>18-44 Years (Individuals Vaccinated)</th>\n",
       "      <th>45-60 Years (Individuals Vaccinated)</th>\n",
       "      <th>60+ Years (Individuals Vaccinated)</th>\n",
       "      <th>Male (Individuals Vaccinated)</th>\n",
       "      <th>Female (Individuals Vaccinated)</th>\n",
       "      <th>Transgender (Individuals Vaccinated)</th>\n",
       "    </tr>\n",
       "  </thead>\n",
       "  <tbody>\n",
       "    <tr>\n",
       "      <th>289</th>\n",
       "      <td>16/01/2021</td>\n",
       "      <td>Andaman and Nicobar Islands</td>\n",
       "      <td>23.0</td>\n",
       "      <td>2.0</td>\n",
       "      <td>2.0</td>\n",
       "      <td>23.0</td>\n",
       "      <td>0.0</td>\n",
       "      <td>NaN</td>\n",
       "      <td>NaN</td>\n",
       "      <td>NaN</td>\n",
       "      <td>0.0</td>\n",
       "      <td>23.0</td>\n",
       "      <td>NaN</td>\n",
       "      <td>NaN</td>\n",
       "      <td>NaN</td>\n",
       "      <td>12.0</td>\n",
       "      <td>11.0</td>\n",
       "      <td>0.0</td>\n",
       "    </tr>\n",
       "    <tr>\n",
       "      <th>290</th>\n",
       "      <td>17/01/2021</td>\n",
       "      <td>Andaman and Nicobar Islands</td>\n",
       "      <td>23.0</td>\n",
       "      <td>2.0</td>\n",
       "      <td>2.0</td>\n",
       "      <td>23.0</td>\n",
       "      <td>0.0</td>\n",
       "      <td>NaN</td>\n",
       "      <td>NaN</td>\n",
       "      <td>NaN</td>\n",
       "      <td>0.0</td>\n",
       "      <td>23.0</td>\n",
       "      <td>NaN</td>\n",
       "      <td>NaN</td>\n",
       "      <td>NaN</td>\n",
       "      <td>12.0</td>\n",
       "      <td>11.0</td>\n",
       "      <td>0.0</td>\n",
       "    </tr>\n",
       "    <tr>\n",
       "      <th>291</th>\n",
       "      <td>18/01/2021</td>\n",
       "      <td>Andaman and Nicobar Islands</td>\n",
       "      <td>42.0</td>\n",
       "      <td>9.0</td>\n",
       "      <td>2.0</td>\n",
       "      <td>42.0</td>\n",
       "      <td>0.0</td>\n",
       "      <td>NaN</td>\n",
       "      <td>NaN</td>\n",
       "      <td>NaN</td>\n",
       "      <td>0.0</td>\n",
       "      <td>42.0</td>\n",
       "      <td>NaN</td>\n",
       "      <td>NaN</td>\n",
       "      <td>NaN</td>\n",
       "      <td>29.0</td>\n",
       "      <td>13.0</td>\n",
       "      <td>0.0</td>\n",
       "    </tr>\n",
       "    <tr>\n",
       "      <th>292</th>\n",
       "      <td>19/01/2021</td>\n",
       "      <td>Andaman and Nicobar Islands</td>\n",
       "      <td>89.0</td>\n",
       "      <td>12.0</td>\n",
       "      <td>2.0</td>\n",
       "      <td>89.0</td>\n",
       "      <td>0.0</td>\n",
       "      <td>NaN</td>\n",
       "      <td>NaN</td>\n",
       "      <td>NaN</td>\n",
       "      <td>0.0</td>\n",
       "      <td>89.0</td>\n",
       "      <td>NaN</td>\n",
       "      <td>NaN</td>\n",
       "      <td>NaN</td>\n",
       "      <td>53.0</td>\n",
       "      <td>36.0</td>\n",
       "      <td>0.0</td>\n",
       "    </tr>\n",
       "    <tr>\n",
       "      <th>293</th>\n",
       "      <td>20/01/2021</td>\n",
       "      <td>Andaman and Nicobar Islands</td>\n",
       "      <td>124.0</td>\n",
       "      <td>16.0</td>\n",
       "      <td>3.0</td>\n",
       "      <td>124.0</td>\n",
       "      <td>0.0</td>\n",
       "      <td>NaN</td>\n",
       "      <td>NaN</td>\n",
       "      <td>NaN</td>\n",
       "      <td>0.0</td>\n",
       "      <td>124.0</td>\n",
       "      <td>NaN</td>\n",
       "      <td>NaN</td>\n",
       "      <td>NaN</td>\n",
       "      <td>67.0</td>\n",
       "      <td>57.0</td>\n",
       "      <td>0.0</td>\n",
       "    </tr>\n",
       "    <tr>\n",
       "      <th>...</th>\n",
       "      <td>...</td>\n",
       "      <td>...</td>\n",
       "      <td>...</td>\n",
       "      <td>...</td>\n",
       "      <td>...</td>\n",
       "      <td>...</td>\n",
       "      <td>...</td>\n",
       "      <td>...</td>\n",
       "      <td>...</td>\n",
       "      <td>...</td>\n",
       "      <td>...</td>\n",
       "      <td>...</td>\n",
       "      <td>...</td>\n",
       "      <td>...</td>\n",
       "      <td>...</td>\n",
       "      <td>...</td>\n",
       "      <td>...</td>\n",
       "      <td>...</td>\n",
       "    </tr>\n",
       "    <tr>\n",
       "      <th>10688</th>\n",
       "      <td>27/10/2021</td>\n",
       "      <td>West Bengal</td>\n",
       "      <td>NaN</td>\n",
       "      <td>NaN</td>\n",
       "      <td>NaN</td>\n",
       "      <td>NaN</td>\n",
       "      <td>NaN</td>\n",
       "      <td>NaN</td>\n",
       "      <td>NaN</td>\n",
       "      <td>NaN</td>\n",
       "      <td>NaN</td>\n",
       "      <td>NaN</td>\n",
       "      <td>NaN</td>\n",
       "      <td>NaN</td>\n",
       "      <td>NaN</td>\n",
       "      <td>NaN</td>\n",
       "      <td>NaN</td>\n",
       "      <td>NaN</td>\n",
       "    </tr>\n",
       "    <tr>\n",
       "      <th>10689</th>\n",
       "      <td>28/10/2021</td>\n",
       "      <td>West Bengal</td>\n",
       "      <td>NaN</td>\n",
       "      <td>NaN</td>\n",
       "      <td>NaN</td>\n",
       "      <td>NaN</td>\n",
       "      <td>NaN</td>\n",
       "      <td>NaN</td>\n",
       "      <td>NaN</td>\n",
       "      <td>NaN</td>\n",
       "      <td>NaN</td>\n",
       "      <td>NaN</td>\n",
       "      <td>NaN</td>\n",
       "      <td>NaN</td>\n",
       "      <td>NaN</td>\n",
       "      <td>NaN</td>\n",
       "      <td>NaN</td>\n",
       "      <td>NaN</td>\n",
       "    </tr>\n",
       "    <tr>\n",
       "      <th>10690</th>\n",
       "      <td>29/10/2021</td>\n",
       "      <td>West Bengal</td>\n",
       "      <td>NaN</td>\n",
       "      <td>NaN</td>\n",
       "      <td>NaN</td>\n",
       "      <td>NaN</td>\n",
       "      <td>NaN</td>\n",
       "      <td>NaN</td>\n",
       "      <td>NaN</td>\n",
       "      <td>NaN</td>\n",
       "      <td>NaN</td>\n",
       "      <td>NaN</td>\n",
       "      <td>NaN</td>\n",
       "      <td>NaN</td>\n",
       "      <td>NaN</td>\n",
       "      <td>NaN</td>\n",
       "      <td>NaN</td>\n",
       "      <td>NaN</td>\n",
       "    </tr>\n",
       "    <tr>\n",
       "      <th>10691</th>\n",
       "      <td>30/10/2021</td>\n",
       "      <td>West Bengal</td>\n",
       "      <td>NaN</td>\n",
       "      <td>NaN</td>\n",
       "      <td>NaN</td>\n",
       "      <td>NaN</td>\n",
       "      <td>NaN</td>\n",
       "      <td>NaN</td>\n",
       "      <td>NaN</td>\n",
       "      <td>NaN</td>\n",
       "      <td>NaN</td>\n",
       "      <td>NaN</td>\n",
       "      <td>NaN</td>\n",
       "      <td>NaN</td>\n",
       "      <td>NaN</td>\n",
       "      <td>NaN</td>\n",
       "      <td>NaN</td>\n",
       "      <td>NaN</td>\n",
       "    </tr>\n",
       "    <tr>\n",
       "      <th>10692</th>\n",
       "      <td>31/10/2021</td>\n",
       "      <td>West Bengal</td>\n",
       "      <td>NaN</td>\n",
       "      <td>NaN</td>\n",
       "      <td>NaN</td>\n",
       "      <td>NaN</td>\n",
       "      <td>NaN</td>\n",
       "      <td>NaN</td>\n",
       "      <td>NaN</td>\n",
       "      <td>NaN</td>\n",
       "      <td>NaN</td>\n",
       "      <td>NaN</td>\n",
       "      <td>NaN</td>\n",
       "      <td>NaN</td>\n",
       "      <td>NaN</td>\n",
       "      <td>NaN</td>\n",
       "      <td>NaN</td>\n",
       "      <td>NaN</td>\n",
       "    </tr>\n",
       "  </tbody>\n",
       "</table>\n",
       "<p>10404 rows × 18 columns</p>\n",
       "</div>"
      ],
      "text/plain": [
       "      vaccine_date                        State  Total  Sessions  Sites  \\\n",
       "289     16/01/2021  Andaman and Nicobar Islands   23.0       2.0    2.0   \n",
       "290     17/01/2021  Andaman and Nicobar Islands   23.0       2.0    2.0   \n",
       "291     18/01/2021  Andaman and Nicobar Islands   42.0       9.0    2.0   \n",
       "292     19/01/2021  Andaman and Nicobar Islands   89.0      12.0    2.0   \n",
       "293     20/01/2021  Andaman and Nicobar Islands  124.0      16.0    3.0   \n",
       "...            ...                          ...    ...       ...    ...   \n",
       "10688   27/10/2021                  West Bengal    NaN       NaN    NaN   \n",
       "10689   28/10/2021                  West Bengal    NaN       NaN    NaN   \n",
       "10690   29/10/2021                  West Bengal    NaN       NaN    NaN   \n",
       "10691   30/10/2021                  West Bengal    NaN       NaN    NaN   \n",
       "10692   31/10/2021                  West Bengal    NaN       NaN    NaN   \n",
       "\n",
       "       First Dose Administered  Second Dose Administered  \\\n",
       "289                       23.0                       0.0   \n",
       "290                       23.0                       0.0   \n",
       "291                       42.0                       0.0   \n",
       "292                       89.0                       0.0   \n",
       "293                      124.0                       0.0   \n",
       "...                        ...                       ...   \n",
       "10688                      NaN                       NaN   \n",
       "10689                      NaN                       NaN   \n",
       "10690                      NaN                       NaN   \n",
       "10691                      NaN                       NaN   \n",
       "10692                      NaN                       NaN   \n",
       "\n",
       "       Male (Doses Administered)  Female (Doses Administered)  \\\n",
       "289                          NaN                          NaN   \n",
       "290                          NaN                          NaN   \n",
       "291                          NaN                          NaN   \n",
       "292                          NaN                          NaN   \n",
       "293                          NaN                          NaN   \n",
       "...                          ...                          ...   \n",
       "10688                        NaN                          NaN   \n",
       "10689                        NaN                          NaN   \n",
       "10690                        NaN                          NaN   \n",
       "10691                        NaN                          NaN   \n",
       "10692                        NaN                          NaN   \n",
       "\n",
       "       Transgender (Doses Administered)  Covaxin (Doses Administered)  \\\n",
       "289                                 NaN                           0.0   \n",
       "290                                 NaN                           0.0   \n",
       "291                                 NaN                           0.0   \n",
       "292                                 NaN                           0.0   \n",
       "293                                 NaN                           0.0   \n",
       "...                                 ...                           ...   \n",
       "10688                               NaN                           NaN   \n",
       "10689                               NaN                           NaN   \n",
       "10690                               NaN                           NaN   \n",
       "10691                               NaN                           NaN   \n",
       "10692                               NaN                           NaN   \n",
       "\n",
       "       CoviShield (Doses Administered)  18-44 Years (Individuals Vaccinated)  \\\n",
       "289                               23.0                                   NaN   \n",
       "290                               23.0                                   NaN   \n",
       "291                               42.0                                   NaN   \n",
       "292                               89.0                                   NaN   \n",
       "293                              124.0                                   NaN   \n",
       "...                                ...                                   ...   \n",
       "10688                              NaN                                   NaN   \n",
       "10689                              NaN                                   NaN   \n",
       "10690                              NaN                                   NaN   \n",
       "10691                              NaN                                   NaN   \n",
       "10692                              NaN                                   NaN   \n",
       "\n",
       "       45-60 Years (Individuals Vaccinated)  \\\n",
       "289                                     NaN   \n",
       "290                                     NaN   \n",
       "291                                     NaN   \n",
       "292                                     NaN   \n",
       "293                                     NaN   \n",
       "...                                     ...   \n",
       "10688                                   NaN   \n",
       "10689                                   NaN   \n",
       "10690                                   NaN   \n",
       "10691                                   NaN   \n",
       "10692                                   NaN   \n",
       "\n",
       "       60+ Years (Individuals Vaccinated)  Male (Individuals Vaccinated)  \\\n",
       "289                                   NaN                           12.0   \n",
       "290                                   NaN                           12.0   \n",
       "291                                   NaN                           29.0   \n",
       "292                                   NaN                           53.0   \n",
       "293                                   NaN                           67.0   \n",
       "...                                   ...                            ...   \n",
       "10688                                 NaN                            NaN   \n",
       "10689                                 NaN                            NaN   \n",
       "10690                                 NaN                            NaN   \n",
       "10691                                 NaN                            NaN   \n",
       "10692                                 NaN                            NaN   \n",
       "\n",
       "       Female (Individuals Vaccinated)  Transgender (Individuals Vaccinated)  \n",
       "289                               11.0                                   0.0  \n",
       "290                               11.0                                   0.0  \n",
       "291                               13.0                                   0.0  \n",
       "292                               36.0                                   0.0  \n",
       "293                               57.0                                   0.0  \n",
       "...                                ...                                   ...  \n",
       "10688                              NaN                                   NaN  \n",
       "10689                              NaN                                   NaN  \n",
       "10690                              NaN                                   NaN  \n",
       "10691                              NaN                                   NaN  \n",
       "10692                              NaN                                   NaN  \n",
       "\n",
       "[10404 rows x 18 columns]"
      ]
     },
     "execution_count": 132,
     "metadata": {},
     "output_type": "execute_result"
    }
   ],
   "source": [
    "# Remove rows where state = India\n",
    "vaccine = vaccine_df[vaccine_df.State !='India']\n",
    "vaccine"
   ]
  },
  {
   "cell_type": "code",
   "execution_count": 138,
   "id": "0147c750",
   "metadata": {},
   "outputs": [
    {
     "name": "stderr",
     "output_type": "stream",
     "text": [
      "C:\\Users\\Tnluser\\AppData\\Local\\Temp\\ipykernel_16552\\3879946977.py:1: SettingWithCopyWarning:\n",
      "\n",
      "\n",
      "A value is trying to be set on a copy of a slice from a DataFrame\n",
      "\n",
      "See the caveats in the documentation: https://pandas.pydata.org/pandas-docs/stable/user_guide/indexing.html#returning-a-view-versus-a-copy\n",
      "\n"
     ]
    }
   ],
   "source": [
    "vaccine.rename(columns={'Total Doses Administered':'Total'},inplace=True)"
   ]
  },
  {
   "cell_type": "code",
   "execution_count": 140,
   "id": "7efefd43",
   "metadata": {},
   "outputs": [
    {
     "data": {
      "text/html": [
       "<div>\n",
       "<style scoped>\n",
       "    .dataframe tbody tr th:only-of-type {\n",
       "        vertical-align: middle;\n",
       "    }\n",
       "\n",
       "    .dataframe tbody tr th {\n",
       "        vertical-align: top;\n",
       "    }\n",
       "\n",
       "    .dataframe thead th {\n",
       "        text-align: right;\n",
       "    }\n",
       "</style>\n",
       "<table border=\"1\" class=\"dataframe\">\n",
       "  <thead>\n",
       "    <tr style=\"text-align: right;\">\n",
       "      <th></th>\n",
       "      <th>vaccine_date</th>\n",
       "      <th>State</th>\n",
       "      <th>Total</th>\n",
       "      <th>Sessions</th>\n",
       "      <th>Sites</th>\n",
       "      <th>First Dose Administered</th>\n",
       "      <th>Second Dose Administered</th>\n",
       "      <th>Male (Doses Administered)</th>\n",
       "      <th>Female (Doses Administered)</th>\n",
       "      <th>Transgender (Doses Administered)</th>\n",
       "      <th>Covaxin (Doses Administered)</th>\n",
       "      <th>CoviShield (Doses Administered)</th>\n",
       "      <th>18-44 Years (Individuals Vaccinated)</th>\n",
       "      <th>45-60 Years (Individuals Vaccinated)</th>\n",
       "      <th>60+ Years (Individuals Vaccinated)</th>\n",
       "      <th>Male (Individuals Vaccinated)</th>\n",
       "      <th>Female (Individuals Vaccinated)</th>\n",
       "      <th>Transgender (Individuals Vaccinated)</th>\n",
       "    </tr>\n",
       "  </thead>\n",
       "  <tbody>\n",
       "    <tr>\n",
       "      <th>289</th>\n",
       "      <td>16/01/2021</td>\n",
       "      <td>Andaman and Nicobar Islands</td>\n",
       "      <td>23.0</td>\n",
       "      <td>2.0</td>\n",
       "      <td>2.0</td>\n",
       "      <td>23.0</td>\n",
       "      <td>0.0</td>\n",
       "      <td>NaN</td>\n",
       "      <td>NaN</td>\n",
       "      <td>NaN</td>\n",
       "      <td>0.0</td>\n",
       "      <td>23.0</td>\n",
       "      <td>NaN</td>\n",
       "      <td>NaN</td>\n",
       "      <td>NaN</td>\n",
       "      <td>12.0</td>\n",
       "      <td>11.0</td>\n",
       "      <td>0.0</td>\n",
       "    </tr>\n",
       "    <tr>\n",
       "      <th>290</th>\n",
       "      <td>17/01/2021</td>\n",
       "      <td>Andaman and Nicobar Islands</td>\n",
       "      <td>23.0</td>\n",
       "      <td>2.0</td>\n",
       "      <td>2.0</td>\n",
       "      <td>23.0</td>\n",
       "      <td>0.0</td>\n",
       "      <td>NaN</td>\n",
       "      <td>NaN</td>\n",
       "      <td>NaN</td>\n",
       "      <td>0.0</td>\n",
       "      <td>23.0</td>\n",
       "      <td>NaN</td>\n",
       "      <td>NaN</td>\n",
       "      <td>NaN</td>\n",
       "      <td>12.0</td>\n",
       "      <td>11.0</td>\n",
       "      <td>0.0</td>\n",
       "    </tr>\n",
       "    <tr>\n",
       "      <th>291</th>\n",
       "      <td>18/01/2021</td>\n",
       "      <td>Andaman and Nicobar Islands</td>\n",
       "      <td>42.0</td>\n",
       "      <td>9.0</td>\n",
       "      <td>2.0</td>\n",
       "      <td>42.0</td>\n",
       "      <td>0.0</td>\n",
       "      <td>NaN</td>\n",
       "      <td>NaN</td>\n",
       "      <td>NaN</td>\n",
       "      <td>0.0</td>\n",
       "      <td>42.0</td>\n",
       "      <td>NaN</td>\n",
       "      <td>NaN</td>\n",
       "      <td>NaN</td>\n",
       "      <td>29.0</td>\n",
       "      <td>13.0</td>\n",
       "      <td>0.0</td>\n",
       "    </tr>\n",
       "    <tr>\n",
       "      <th>292</th>\n",
       "      <td>19/01/2021</td>\n",
       "      <td>Andaman and Nicobar Islands</td>\n",
       "      <td>89.0</td>\n",
       "      <td>12.0</td>\n",
       "      <td>2.0</td>\n",
       "      <td>89.0</td>\n",
       "      <td>0.0</td>\n",
       "      <td>NaN</td>\n",
       "      <td>NaN</td>\n",
       "      <td>NaN</td>\n",
       "      <td>0.0</td>\n",
       "      <td>89.0</td>\n",
       "      <td>NaN</td>\n",
       "      <td>NaN</td>\n",
       "      <td>NaN</td>\n",
       "      <td>53.0</td>\n",
       "      <td>36.0</td>\n",
       "      <td>0.0</td>\n",
       "    </tr>\n",
       "    <tr>\n",
       "      <th>293</th>\n",
       "      <td>20/01/2021</td>\n",
       "      <td>Andaman and Nicobar Islands</td>\n",
       "      <td>124.0</td>\n",
       "      <td>16.0</td>\n",
       "      <td>3.0</td>\n",
       "      <td>124.0</td>\n",
       "      <td>0.0</td>\n",
       "      <td>NaN</td>\n",
       "      <td>NaN</td>\n",
       "      <td>NaN</td>\n",
       "      <td>0.0</td>\n",
       "      <td>124.0</td>\n",
       "      <td>NaN</td>\n",
       "      <td>NaN</td>\n",
       "      <td>NaN</td>\n",
       "      <td>67.0</td>\n",
       "      <td>57.0</td>\n",
       "      <td>0.0</td>\n",
       "    </tr>\n",
       "  </tbody>\n",
       "</table>\n",
       "</div>"
      ],
      "text/plain": [
       "    vaccine_date                        State  Total  Sessions  Sites  \\\n",
       "289   16/01/2021  Andaman and Nicobar Islands   23.0       2.0    2.0   \n",
       "290   17/01/2021  Andaman and Nicobar Islands   23.0       2.0    2.0   \n",
       "291   18/01/2021  Andaman and Nicobar Islands   42.0       9.0    2.0   \n",
       "292   19/01/2021  Andaman and Nicobar Islands   89.0      12.0    2.0   \n",
       "293   20/01/2021  Andaman and Nicobar Islands  124.0      16.0    3.0   \n",
       "\n",
       "     First Dose Administered  Second Dose Administered  \\\n",
       "289                     23.0                       0.0   \n",
       "290                     23.0                       0.0   \n",
       "291                     42.0                       0.0   \n",
       "292                     89.0                       0.0   \n",
       "293                    124.0                       0.0   \n",
       "\n",
       "     Male (Doses Administered)  Female (Doses Administered)  \\\n",
       "289                        NaN                          NaN   \n",
       "290                        NaN                          NaN   \n",
       "291                        NaN                          NaN   \n",
       "292                        NaN                          NaN   \n",
       "293                        NaN                          NaN   \n",
       "\n",
       "     Transgender (Doses Administered)  Covaxin (Doses Administered)  \\\n",
       "289                               NaN                           0.0   \n",
       "290                               NaN                           0.0   \n",
       "291                               NaN                           0.0   \n",
       "292                               NaN                           0.0   \n",
       "293                               NaN                           0.0   \n",
       "\n",
       "     CoviShield (Doses Administered)  18-44 Years (Individuals Vaccinated)  \\\n",
       "289                             23.0                                   NaN   \n",
       "290                             23.0                                   NaN   \n",
       "291                             42.0                                   NaN   \n",
       "292                             89.0                                   NaN   \n",
       "293                            124.0                                   NaN   \n",
       "\n",
       "     45-60 Years (Individuals Vaccinated)  60+ Years (Individuals Vaccinated)  \\\n",
       "289                                   NaN                                 NaN   \n",
       "290                                   NaN                                 NaN   \n",
       "291                                   NaN                                 NaN   \n",
       "292                                   NaN                                 NaN   \n",
       "293                                   NaN                                 NaN   \n",
       "\n",
       "     Male (Individuals Vaccinated)  Female (Individuals Vaccinated)  \\\n",
       "289                           12.0                             11.0   \n",
       "290                           12.0                             11.0   \n",
       "291                           29.0                             13.0   \n",
       "292                           53.0                             36.0   \n",
       "293                           67.0                             57.0   \n",
       "\n",
       "     Transgender (Individuals Vaccinated)  \n",
       "289                                   0.0  \n",
       "290                                   0.0  \n",
       "291                                   0.0  \n",
       "292                                   0.0  \n",
       "293                                   0.0  "
      ]
     },
     "execution_count": 140,
     "metadata": {},
     "output_type": "execute_result"
    }
   ],
   "source": [
    "vaccine.head()"
   ]
  },
  {
   "cell_type": "code",
   "execution_count": 147,
   "id": "b6d8b5fc",
   "metadata": {},
   "outputs": [],
   "source": [
    "# most vaccianted state\n",
    "\n",
    "max_vc = vaccine.groupby('State')['Total'].sum().to_frame(\"Total\")\n",
    "max_vc = max_vc.sort_values('Total',ascending=False)[:5]"
   ]
  },
  {
   "cell_type": "code",
   "execution_count": 148,
   "id": "19983087",
   "metadata": {},
   "outputs": [
    {
     "data": {
      "text/html": [
       "<div>\n",
       "<style scoped>\n",
       "    .dataframe tbody tr th:only-of-type {\n",
       "        vertical-align: middle;\n",
       "    }\n",
       "\n",
       "    .dataframe tbody tr th {\n",
       "        vertical-align: top;\n",
       "    }\n",
       "\n",
       "    .dataframe thead th {\n",
       "        text-align: right;\n",
       "    }\n",
       "</style>\n",
       "<table border=\"1\" class=\"dataframe\">\n",
       "  <thead>\n",
       "    <tr style=\"text-align: right;\">\n",
       "      <th></th>\n",
       "      <th>Total</th>\n",
       "    </tr>\n",
       "    <tr>\n",
       "      <th>State</th>\n",
       "      <th></th>\n",
       "    </tr>\n",
       "  </thead>\n",
       "  <tbody>\n",
       "    <tr>\n",
       "      <th>Uttar Pradesh</th>\n",
       "      <td>7.352917e+09</td>\n",
       "    </tr>\n",
       "    <tr>\n",
       "      <th>Maharashtra</th>\n",
       "      <td>6.699358e+09</td>\n",
       "    </tr>\n",
       "    <tr>\n",
       "      <th>Gujarat</th>\n",
       "      <td>5.234253e+09</td>\n",
       "    </tr>\n",
       "    <tr>\n",
       "      <th>Rajasthan</th>\n",
       "      <td>5.047023e+09</td>\n",
       "    </tr>\n",
       "    <tr>\n",
       "      <th>West Bengal</th>\n",
       "      <td>4.608094e+09</td>\n",
       "    </tr>\n",
       "  </tbody>\n",
       "</table>\n",
       "</div>"
      ],
      "text/plain": [
       "                      Total\n",
       "State                      \n",
       "Uttar Pradesh  7.352917e+09\n",
       "Maharashtra    6.699358e+09\n",
       "Gujarat        5.234253e+09\n",
       "Rajasthan      5.047023e+09\n",
       "West Bengal    4.608094e+09"
      ]
     },
     "execution_count": 148,
     "metadata": {},
     "output_type": "execute_result"
    }
   ],
   "source": [
    "max_vc"
   ]
  },
  {
   "cell_type": "code",
   "execution_count": 156,
   "id": "45c6ebd3",
   "metadata": {},
   "outputs": [
    {
     "data": {
      "image/png": "[encoded data removed]",
      "text/plain": [
       "<Figure size 1000x500 with 1 Axes>"
      ]
     },
     "metadata": {},
     "output_type": "display_data"
    }
   ],
   "source": [
    "fig = plt.figure(figsize=(10,5))\n",
    "plt.title(\"Top 5 vaccianted State in India\",size = 20)\n",
    "x = sns.barplot(data = max_vc,x=max_vc.index , y=max_vc.Total,linewidth = 2,edgecolor = 'black')\n",
    "plt.xlabel(\"States\",size = 20)\n",
    "plt.ylabel(\"Vaccination\",size = 20)\n",
    "plt.show()"
   ]
  },
  {
   "cell_type": "code",
   "execution_count": 169,
   "id": "e6a023d1",
   "metadata": {},
   "outputs": [
    {
     "data": {
      "text/html": [
       "<div>\n",
       "<style scoped>\n",
       "    .dataframe tbody tr th:only-of-type {\n",
       "        vertical-align: middle;\n",
       "    }\n",
       "\n",
       "    .dataframe tbody tr th {\n",
       "        vertical-align: top;\n",
       "    }\n",
       "\n",
       "    .dataframe thead th {\n",
       "        text-align: right;\n",
       "    }\n",
       "</style>\n",
       "<table border=\"1\" class=\"dataframe\">\n",
       "  <thead>\n",
       "    <tr style=\"text-align: right;\">\n",
       "      <th></th>\n",
       "      <th>Total</th>\n",
       "    </tr>\n",
       "    <tr>\n",
       "      <th>State</th>\n",
       "      <th></th>\n",
       "    </tr>\n",
       "  </thead>\n",
       "  <tbody>\n",
       "    <tr>\n",
       "      <th>Lakshadweep</th>\n",
       "      <td>9543872.0</td>\n",
       "    </tr>\n",
       "    <tr>\n",
       "      <th>Ladakh</th>\n",
       "      <td>38600907.0</td>\n",
       "    </tr>\n",
       "    <tr>\n",
       "      <th>Andaman and Nicobar Islands</th>\n",
       "      <td>39677462.0</td>\n",
       "    </tr>\n",
       "    <tr>\n",
       "      <th>Dadra and Nagar Haveli and Daman and Diu</th>\n",
       "      <td>78662594.0</td>\n",
       "    </tr>\n",
       "    <tr>\n",
       "      <th>Sikkim</th>\n",
       "      <td>84174958.0</td>\n",
       "    </tr>\n",
       "  </tbody>\n",
       "</table>\n",
       "</div>"
      ],
      "text/plain": [
       "                                               Total\n",
       "State                                               \n",
       "Lakshadweep                                9543872.0\n",
       "Ladakh                                    38600907.0\n",
       "Andaman and Nicobar Islands               39677462.0\n",
       "Dadra and Nagar Haveli and Daman and Diu  78662594.0\n",
       "Sikkim                                    84174958.0"
      ]
     },
     "execution_count": 169,
     "metadata": {},
     "output_type": "execute_result"
    }
   ],
   "source": [
    "# bottom 5 vaccianted state in india\n",
    "bottom_vc = vaccine.groupby('State')['Total'].sum().to_frame(\"Total\")\n",
    "bottom_vc = bottom_vc.sort_values(by='Total',ascending=True)[:5]\n",
    "bottom_vc"
   ]
  },
  {
   "cell_type": "code",
   "execution_count": 198,
   "id": "91ee8db2",
   "metadata": {},
   "outputs": [
    {
     "data": {
      "image/png": "[encoded data removed]",
      "text/plain": [
       "<Figure size 1000x600 with 1 Axes>"
      ]
     },
     "metadata": {},
     "output_type": "display_data"
    }
   ],
   "source": [
    "plt.figure(figsize=(10,6))\n",
    "x = sns.barplot(data=bottom_vc,x =bottom_vc.index , y = bottom_vc.Total , linewidth =3,edgecolor ='black')\n",
    "plt.title(\"Bottom 5 Vaccinated state in India\",size = 20)\n",
    "plt.xlabel(\"States\",size = 15)\n",
    "plt.tick_params(rotation = 30)\n",
    "plt.ylabel(\"Vacciantion\",size = 15)\n",
    "plt.show()"
   ]
  },
  {
   "cell_type": "code",
   "execution_count": null,
   "id": "aabcaf65",
   "metadata": {},
   "outputs": [],
   "source": []
  }
 ],
 "metadata": {
  "kernelspec": {
   "display_name": "Python 3 (ipykernel)",
   "language": "python",
   "name": "python3"
  },
  "language_info": {
   "codemirror_mode": {
    "name": "ipython",
    "version": 3
   },
   "file_extension": ".py",
   "mimetype": "text/x-python",
   "name": "python",
   "nbconvert_exporter": "python",
   "pygments_lexer": "ipython3",
   "version": "3.11.4"
  }
 },
 "nbformat": 4,
 "nbformat_minor": 5
}
